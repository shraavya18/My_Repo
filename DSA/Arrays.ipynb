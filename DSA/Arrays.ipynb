{
 "cells": [
  {
   "cell_type": "code",
   "execution_count": 2,
   "metadata": {},
   "outputs": [],
   "source": [
    "#similar to list - but it should have all elements in same type \n",
    "#in python  lists are most used than arrays. \n",
    "#size is not fixed, you increase it dynamically  \n",
    "#array do not come by default, you should import it \n",
    "from array import*"
   ]
  },
  {
   "cell_type": "code",
   "execution_count": null,
   "metadata": {},
   "outputs": [],
   "source": [
    "#creating an array \n",
    "#name = array(data_type, value_list)\n",
    "values = array('i', [5,9,8,4,2])  #i is typecode for integer\n",
    "print(values)\n",
    "print(values.buffer_info()) #gives address and size of the array \n",
    "print(values.typecode)  #gives the datatype of the array. "
   ]
  },
  {
   "cell_type": "code",
   "execution_count": null,
   "metadata": {},
   "outputs": [],
   "source": [
    "values.append(32)\n",
    "print(values)\n",
    "values.remove(4)\n",
    "print(values)\n"
   ]
  },
  {
   "cell_type": "code",
   "execution_count": null,
   "metadata": {},
   "outputs": [],
   "source": [
    "for i in range(5):\n",
    "    print(values[i])"
   ]
  },
  {
   "cell_type": "code",
   "execution_count": null,
   "metadata": {},
   "outputs": [],
   "source": [
    "#when you do not know the lenght\n",
    "for i in range(len(values)):\n",
    "    print(values[i])"
   ]
  },
  {
   "cell_type": "code",
   "execution_count": null,
   "metadata": {},
   "outputs": [],
   "source": [
    "#Practice Questions \n",
    "practice_array=array('i',[1,2,3,4,5])\n",
    "print(practice_array)"
   ]
  },
  {
   "cell_type": "code",
   "execution_count": null,
   "metadata": {},
   "outputs": [],
   "source": [
    "practice_array.append(60)  #append at the end of the array \n",
    "practice_array.insert(1,50)  #insert is when you want to insert at a specific position\n",
    "print(practice_array)"
   ]
  },
  {
   "cell_type": "code",
   "execution_count": null,
   "metadata": {},
   "outputs": [],
   "source": [
    "practice_array.remove(60) #removes the element with value 60 \n",
    "practice_array.pop(1) #removes element at index 1 \n",
    "print(practice_array)"
   ]
  },
  {
   "cell_type": "code",
   "execution_count": null,
   "metadata": {},
   "outputs": [],
   "source": [
    "#sum of elements in array \n",
    "print(practice_array)\n",
    "sum=0\n",
    "for i in range(len(practice_array)):\n",
    "    sum=sum+practice_array[i]\n",
    "print(sum)"
   ]
  },
  {
   "cell_type": "code",
   "execution_count": null,
   "metadata": {},
   "outputs": [],
   "source": [
    "#searching in array \n",
    "key=78\n",
    "for i in range(len(practice_array)):\n",
    "    if practice_array[i]==key:\n",
    "        print(\"element found at position: \", i)\n",
    "        break\n",
    "else:\n",
    "    print(\"Not Found\")"
   ]
  },
  {
   "cell_type": "code",
   "execution_count": null,
   "metadata": {},
   "outputs": [],
   "source": [
    "#maximum and minimum elements \n",
    "print(max(practice_array))\n",
    "print(min(practice_array))\n",
    "\n",
    "#other way \n",
    "min_val=practice_array[0]\n",
    "max_val=practice_array[0]\n",
    "for num in practice_array:\n",
    "    if num>max_val:\n",
    "        max_val=num\n",
    "    if(num<min_val):\n",
    "        min_val=num\n",
    "print(max_val)\n",
    "print(min_val)"
   ]
  },
  {
   "cell_type": "code",
   "execution_count": null,
   "metadata": {},
   "outputs": [],
   "source": [
    "#reverse an array \n",
    "rev_array=array('i',[])\n",
    "for i in range(len(practice_array)-1,-1,-1):\n",
    "    rev_array.append(practice_array[i])\n",
    "print(rev_array)"
   ]
  },
  {
   "cell_type": "code",
   "execution_count": 3,
   "metadata": {},
   "outputs": [
    {
     "name": "stdout",
     "output_type": "stream",
     "text": [
      "[1, 3, 5, 7, 9, 11]\n"
     ]
    }
   ],
   "source": [
    "#Create a list of all odd numbers between 1 and a max number. Max number is something you need to take from a user using input() function\n",
    "max_number=int(input(\"Enter the number: \"))\n",
    "odd_nums=[]\n",
    "for num in range(1, max_number+1):\n",
    "    if num%2!=0:\n",
    "        odd_nums.append(num)\n",
    "print(odd_nums)"
   ]
  }
 ],
 "metadata": {
  "kernelspec": {
   "display_name": "Python 3",
   "language": "python",
   "name": "python3"
  },
  "language_info": {
   "codemirror_mode": {
    "name": "ipython",
    "version": 3
   },
   "file_extension": ".py",
   "mimetype": "text/x-python",
   "name": "python",
   "nbconvert_exporter": "python",
   "pygments_lexer": "ipython3",
   "version": "3.12.2"
  }
 },
 "nbformat": 4,
 "nbformat_minor": 2
}
