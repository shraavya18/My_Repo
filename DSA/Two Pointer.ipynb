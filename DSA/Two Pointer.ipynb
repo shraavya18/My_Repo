{
 "cells": [
  {
   "cell_type": "code",
   "execution_count": null,
   "metadata": {},
   "outputs": [],
   "source": [
    "#two pointer probelms "
   ]
  },
  {
   "cell_type": "code",
   "execution_count": 8,
   "metadata": {},
   "outputs": [
    {
     "name": "stdout",
     "output_type": "stream",
     "text": [
      "[1, 2]\n"
     ]
    }
   ],
   "source": [
    "#1. Find the Pair with Target Sum\n",
    "nums = [2, 7, 11, 15]\n",
    "target = 18\n",
    "i=0\n",
    "j=len(nums)-1\n",
    "output_list=[]\n",
    "\n",
    "while(i<j):\n",
    "    if nums[i]+nums[j]==target:\n",
    "        output_list.append(i)\n",
    "        output_list.append(j)\n",
    "        break\n",
    "    elif nums[i]+nums[j]<target:\n",
    "        i=i+1\n",
    "    else:\n",
    "        j=j-1\n",
    "print(output_list)"
   ]
  },
  {
   "cell_type": "code",
   "execution_count": null,
   "metadata": {},
   "outputs": [
    {
     "name": "stdout",
     "output_type": "stream",
     "text": [
      "[0, 1, 1, 2, 2, 3, 3, 4]\n"
     ]
    }
   ],
   "source": [
    "#2. remove duplicates from sorted array\n",
    "nums = [0, 0, 1, 1, 2, 2, 3, 3, 4]\n",
    "\n",
    "i = 0  # Pointer to track the last unique element\n",
    "\n",
    "for j in range(1, len(nums)):  # Start from the second element\n",
    "    if nums[j] != nums[i]:  # If current element is different from the last unique element\n",
    "        i += 1  # Move `i` to the next position\n",
    "        nums[i] = nums[j]  # Update the element at `i` with `nums[j]`\n",
    "\n",
    "# The unique elements are in the first `i + 1` positions\n",
    "print(nums[:i + 1])\n"
   ]
  },
  {
   "cell_type": "code",
   "execution_count": null,
   "metadata": {},
   "outputs": [],
   "source": []
  },
  {
   "cell_type": "code",
   "execution_count": null,
   "metadata": {},
   "outputs": [],
   "source": []
  }
 ],
 "metadata": {
  "kernelspec": {
   "display_name": "Python 3",
   "language": "python",
   "name": "python3"
  },
  "language_info": {
   "codemirror_mode": {
    "name": "ipython",
    "version": 3
   },
   "file_extension": ".py",
   "mimetype": "text/x-python",
   "name": "python",
   "nbconvert_exporter": "python",
   "pygments_lexer": "ipython3",
   "version": "3.12.2"
  }
 },
 "nbformat": 4,
 "nbformat_minor": 2
}
