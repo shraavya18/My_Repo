{
 "cells": [
  {
   "cell_type": "code",
   "execution_count": null,
   "metadata": {},
   "outputs": [],
   "source": [
    "#hashmap/hash table - dictionary in python \n",
    "#example dataset \n",
    "# {'march 6': 310.0,\n",
    "#  'march 7': 340.0,\n",
    "#  'march 8': 380.0,\n",
    "#  'march 9': 302.0,\n",
    "#  'march 10': 297.0,\n",
    "#  'march 11': 323.0}"
   ]
  },
  {
   "cell_type": "code",
   "execution_count": null,
   "metadata": {},
   "outputs": [],
   "source": [
    "stock_prices={}\n",
    "with open(\"stock_prices.csv\",\"r\") as f:\n",
    "    for line in f:\n",
    "        tokens=line.split(',')\n",
    "        day=tokens[0]\n",
    "        price=float(tokens[1])\n",
    "        stock_prices[day]=price"
   ]
  },
  {
   "cell_type": "code",
   "execution_count": null,
   "metadata": {},
   "outputs": [],
   "source": [
    "stock_prices"
   ]
  },
  {
   "cell_type": "code",
   "execution_count": null,
   "metadata": {},
   "outputs": [],
   "source": [
    "#finding stock price on march 9 \n",
    "stock_prices['march 9']"
   ]
  },
  {
   "cell_type": "code",
   "execution_count": null,
   "metadata": {},
   "outputs": [],
   "source": [
    "#hash fucntion  - can be calculated using any approach or formulae\n",
    "#in this approach, we are calculting the ASCII value of each char in key, adding all of them and then modulus of that sum with 10\n",
    "def get_hash(key):\n",
    "    h=0\n",
    "    for char in key:\n",
    "        h=h+ord(char)   #ord() gives the ASCII value of the char\n",
    "    return h%100 "
   ]
  },
  {
   "cell_type": "code",
   "execution_count": null,
   "metadata": {},
   "outputs": [],
   "source": [
    "get_hash('march 6')"
   ]
  },
  {
   "cell_type": "code",
   "execution_count": 18,
   "metadata": {},
   "outputs": [],
   "source": [
    "class HashTable:\n",
    "    def __init__(self):\n",
    "        self.MAX=100  #taking an array of size 100\n",
    "        self.arr =[None for i in range(self.MAX)] #initialixing all values to None for now. \n",
    "\n",
    "    def get_hash(self, key):  #method to calculate hash\n",
    "        h=0\n",
    "        for char in key:\n",
    "            h=h+ord(char)   \n",
    "        return h%self.MAX\n",
    "    \n",
    "    def add(self,key,val):\n",
    "        h=self.get_hash(key)\n",
    "        self.arr[h]=val\n",
    "\n",
    "    def get(self, key):\n",
    "        h=self.get_hash(key)\n",
    "        return self.arr[h]"
   ]
  },
  {
   "cell_type": "code",
   "execution_count": 19,
   "metadata": {},
   "outputs": [
    {
     "data": {
      "text/plain": [
       "130"
      ]
     },
     "execution_count": 19,
     "metadata": {},
     "output_type": "execute_result"
    }
   ],
   "source": [
    "t=HashTable()\n",
    "t.get_hash('march 6')\n",
    "t.add('march 6', 130)\n",
    "t.get('march 6')"
   ]
  },
  {
   "cell_type": "code",
   "execution_count": null,
   "metadata": {},
   "outputs": [],
   "source": [
    "#same can be done using python in built item operators - in datastructues zip folder downloaded from codebasics   "
   ]
  },
  {
   "cell_type": "code",
   "execution_count": null,
   "metadata": {},
   "outputs": [],
   "source": []
  }
 ],
 "metadata": {
  "kernelspec": {
   "display_name": "Python 3",
   "language": "python",
   "name": "python3"
  },
  "language_info": {
   "codemirror_mode": {
    "name": "ipython",
    "version": 3
   },
   "file_extension": ".py",
   "mimetype": "text/x-python",
   "name": "python",
   "nbconvert_exporter": "python",
   "pygments_lexer": "ipython3",
   "version": "3.12.2"
  }
 },
 "nbformat": 4,
 "nbformat_minor": 2
}
