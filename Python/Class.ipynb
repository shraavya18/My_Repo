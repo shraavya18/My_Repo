{
 "cells": [
  {
   "cell_type": "code",
   "execution_count": null,
   "metadata": {},
   "outputs": [],
   "source": [
    "#classes and objects "
   ]
  },
  {
   "cell_type": "code",
   "execution_count": 3,
   "metadata": {},
   "outputs": [
    {
     "name": "stdout",
     "output_type": "stream",
     "text": [
      "tom acts in films\n",
      "tom speaks 2 languages\n",
      "Maria play tennis\n",
      "Maria speaks 2 languages\n"
     ]
    }
   ],
   "source": [
    "class Human:\n",
    "    def __init__(self, n, o):   #initialize the prop of a class, self referes to class itself\n",
    "        self.name=n\n",
    "        self.occupation=o        \n",
    "\n",
    "    def do_work(self):\n",
    "        if self.occupation==\"tennis player\":\n",
    "            print(self.name, \"play tennis\")\n",
    "        elif self.occupation==\"actor\":\n",
    "            print(self.name, \"acts in films\")\n",
    "    \n",
    "    def speaks(self):\n",
    "        print(self.name, \"speaks 2 languages\")\n",
    "\n",
    "tom=Human(\"tom\", \"actor\")  #object 1 of type Human\n",
    "tom.do_work()\n",
    "tom.speaks()\n",
    "\n",
    "maria=Human(\"Maria\", \"tennis player\")\n",
    "maria.do_work()\n",
    "maria.speaks()"
   ]
  }
 ],
 "metadata": {
  "kernelspec": {
   "display_name": "Python 3",
   "language": "python",
   "name": "python3"
  },
  "language_info": {
   "codemirror_mode": {
    "name": "ipython",
    "version": 3
   },
   "file_extension": ".py",
   "mimetype": "text/x-python",
   "name": "python",
   "nbconvert_exporter": "python",
   "pygments_lexer": "ipython3",
   "version": "3.12.2"
  }
 },
 "nbformat": 4,
 "nbformat_minor": 2
}
