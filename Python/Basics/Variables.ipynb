{
 "cells": [
  {
   "cell_type": "code",
   "execution_count": 1,
   "id": "0e3910ed",
   "metadata": {},
   "outputs": [
    {
     "name": "stdout",
     "output_type": "stream",
     "text": [
      "hello\n"
     ]
    }
   ],
   "source": [
    "print(\"hello\")"
   ]
  },
  {
   "cell_type": "code",
   "execution_count": 2,
   "id": "10ea1fc6",
   "metadata": {},
   "outputs": [
    {
     "name": "stdout",
     "output_type": "stream",
     "text": [
      "10\n"
     ]
    }
   ],
   "source": [
    "#variable = value --syntax \n",
    "#variable name should only start with alphabets or _(underscore)\n",
    "#numbers and other special characters are not allowed in the starting. \n",
    "a=10\n",
    "print(a)"
   ]
  },
  {
   "cell_type": "code",
   "execution_count": 3,
   "id": "97b1bd82",
   "metadata": {},
   "outputs": [
    {
     "name": "stdout",
     "output_type": "stream",
     "text": [
      "1 3 4\n"
     ]
    }
   ],
   "source": [
    "a,b,c=1,3,4\n",
    "print(a,b,c)"
   ]
  },
  {
   "cell_type": "code",
   "execution_count": 4,
   "id": "44a7fcbf",
   "metadata": {},
   "outputs": [
    {
     "name": "stdout",
     "output_type": "stream",
     "text": [
      "22\n",
      "22\n"
     ]
    }
   ],
   "source": [
    "c=x=v=22\n",
    "print(c)\n",
    "print(x)"
   ]
  },
  {
   "cell_type": "code",
   "execution_count": 6,
   "id": "cb229fd4",
   "metadata": {},
   "outputs": [
    {
     "name": "stdout",
     "output_type": "stream",
     "text": [
      "1931101957072\n",
      "1931101957072\n"
     ]
    }
   ],
   "source": [
    "#id method gives the memory location of a variable \n",
    "print(id(c))\n",
    "print(id(x))"
   ]
  },
  {
   "cell_type": "code",
   "execution_count": 8,
   "id": "af111973",
   "metadata": {},
   "outputs": [
    {
     "name": "stdout",
     "output_type": "stream",
     "text": [
      "hello world\n",
      "HELLO WORLD\n"
     ]
    }
   ],
   "source": [
    "#python is case sensitive\n",
    "abc=\"hello world\"\n",
    "ABC=\"HELLO WORLD\"\n",
    "print(abc)\n",
    "print(ABC)"
   ]
  },
  {
   "cell_type": "code",
   "execution_count": 9,
   "id": "023a0351",
   "metadata": {},
   "outputs": [
    {
     "name": "stdout",
     "output_type": "stream",
     "text": [
      "<class 'str'>\n"
     ]
    }
   ],
   "source": [
    "print(type(abc))"
   ]
  },
  {
   "cell_type": "code",
   "execution_count": 11,
   "id": "2a057516",
   "metadata": {},
   "outputs": [
    {
     "name": "stdout",
     "output_type": "stream",
     "text": [
      "<class 'int'>\n"
     ]
    }
   ],
   "source": [
    "#type conversion \n",
    "age=\"24\" #declared as string \n",
    "age=int(age) #converted into integer\n",
    "print(type(age))"
   ]
  },
  {
   "cell_type": "code",
   "execution_count": 12,
   "id": "397078d2",
   "metadata": {},
   "outputs": [
    {
     "name": "stdout",
     "output_type": "stream",
     "text": [
      "Hello\n",
      "Hello\n"
     ]
    }
   ],
   "source": [
    "#Strings can be either declared with single or double quotes\n",
    "var_1='Hello'\n",
    "var_2=\"Hello\"\n",
    "print(var_1)\n",
    "print(var_2)"
   ]
  },
  {
   "cell_type": "code",
   "execution_count": 15,
   "id": "51181a4e",
   "metadata": {},
   "outputs": [
    {
     "name": "stdout",
     "output_type": "stream",
     "text": [
      "global variable\n"
     ]
    }
   ],
   "source": [
    "#global variables \n",
    "x='global variable'\n",
    "\n",
    "def myFunc():\n",
    "    print(x)\n",
    "    \n",
    "myFunc()  #here x is a global variable, it can be used in any function"
   ]
  },
  {
   "cell_type": "code",
   "execution_count": 16,
   "id": "b1064d15",
   "metadata": {},
   "outputs": [
    {
     "name": "stdout",
     "output_type": "stream",
     "text": [
      "local variable\n"
     ]
    }
   ],
   "source": [
    "#local variable \n",
    "\n",
    "x='global variable'\n",
    "def myFunc():\n",
    "    x='local variable'\n",
    "    print(x)\n",
    "    \n",
    "myFunc()  #initially, x is global variable, but then it was replaced by local variable inside the fucntion\n",
    "#x=fantastic is only within this function, outside the function x will be global only "
   ]
  },
  {
   "cell_type": "code",
   "execution_count": 18,
   "id": "8046150d",
   "metadata": {},
   "outputs": [
    {
     "name": "stdout",
     "output_type": "stream",
     "text": [
      "global variable\n"
     ]
    }
   ],
   "source": [
    "#if you want to declare a global var inside a function, use global key word\n",
    "def myFunc():\n",
    "    global x\n",
    "    x='global variable'\n",
    "    \n",
    "myFunc()\n",
    "print(x)  #x is printing even it is outside of the function because, it is declared as global. "
   ]
  },
  {
   "cell_type": "code",
   "execution_count": 2,
   "id": "2b18e032",
   "metadata": {},
   "outputs": [
    {
     "data": {
      "text/plain": [
       "24"
      ]
     },
     "execution_count": 2,
     "metadata": {},
     "output_type": "execute_result"
    }
   ],
   "source": [
    "#Code basics variable exercise \n",
    "birth_year=2000\n",
    "current_year=2024\n",
    "age=current_year-birth_year\n",
    "age"
   ]
  },
  {
   "cell_type": "code",
   "execution_count": 4,
   "id": "e64b6460",
   "metadata": {},
   "outputs": [
    {
     "name": "stdout",
     "output_type": "stream",
     "text": [
      "My name is: Shraavya reddy katkuri\n"
     ]
    }
   ],
   "source": [
    "first_name='shraavya'\n",
    "middle_name='reddy'\n",
    "last_name='katkuri'\n",
    "print(\"My name is: \"+ first_name.capitalize() +\" \" +middle_name+ \" \"+last_name)"
   ]
  }
 ],
 "metadata": {
  "kernelspec": {
   "display_name": "Python 3",
   "language": "python",
   "name": "python3"
  },
  "language_info": {
   "codemirror_mode": {
    "name": "ipython",
    "version": 3
   },
   "file_extension": ".py",
   "mimetype": "text/x-python",
   "name": "python",
   "nbconvert_exporter": "python",
   "pygments_lexer": "ipython3",
   "version": "3.12.2"
  }
 },
 "nbformat": 4,
 "nbformat_minor": 5
}
