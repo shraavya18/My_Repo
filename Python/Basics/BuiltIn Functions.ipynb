{
 "cells": [
  {
   "cell_type": "code",
   "execution_count": null,
   "metadata": {},
   "outputs": [],
   "source": [
    "#This file is for practicing all the builtin functions that I will come across in my practice. "
   ]
  },
  {
   "cell_type": "code",
   "execution_count": 6,
   "metadata": {},
   "outputs": [
    {
     "name": "stdout",
     "output_type": "stream",
     "text": [
      "[0, 1, 2, 3, 4]\n",
      "[1, 2, 3, 4, 5, 6, 7, 8]\n",
      "[1, 3, 5, 7, 9]\n"
     ]
    }
   ],
   "source": [
    "#range function - range(start, stop, step)\n",
    "print(list(range(5))) #will print a list 0,1,2,3,4 starts at 0 and ends at n-1, here n is size given in paranthesis\n",
    "print(list(range(1,9))) #will start at 1 and end at 8(9-1)\n",
    "print(list(range(1,10,2))) #will start at 1, skip 2 numbers in between and print till 9(10-1)"
   ]
  },
  {
   "cell_type": "code",
   "execution_count": 2,
   "metadata": {},
   "outputs": [
    {
     "name": "stdout",
     "output_type": "stream",
     "text": [
      "(1, 6)\n",
      "(2, 7)\n",
      "(3, 8)\n",
      "(4, 9)\n",
      "(5, 10)\n"
     ]
    }
   ],
   "source": [
    "#zip function - used to combine 2 lists/sets/dictionaries \n",
    "a=[1,2,3,4,5]\n",
    "b=[6,7,8,9,10]\n",
    "z=zip(a,b)\n",
    "for a in z:\n",
    "    print(a)\n"
   ]
  }
 ],
 "metadata": {
  "kernelspec": {
   "display_name": "Python 3",
   "language": "python",
   "name": "python3"
  },
  "language_info": {
   "codemirror_mode": {
    "name": "ipython",
    "version": 3
   },
   "file_extension": ".py",
   "mimetype": "text/x-python",
   "name": "python",
   "nbconvert_exporter": "python",
   "pygments_lexer": "ipython3",
   "version": "3.12.2"
  }
 },
 "nbformat": 4,
 "nbformat_minor": 2
}
