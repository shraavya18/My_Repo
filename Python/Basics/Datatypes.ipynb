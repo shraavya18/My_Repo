{
 "cells": [
  {
   "cell_type": "code",
   "execution_count": 1,
   "id": "4f445e3b",
   "metadata": {},
   "outputs": [
    {
     "name": "stdout",
     "output_type": "stream",
     "text": [
      "<class 'str'>\n"
     ]
    }
   ],
   "source": [
    "a='s'\n",
    "print(type(a))"
   ]
  },
  {
   "cell_type": "code",
   "execution_count": 3,
   "id": "1c87fa2b",
   "metadata": {},
   "outputs": [
    {
     "name": "stdout",
     "output_type": "stream",
     "text": [
      "<class 'complex'>\n"
     ]
    }
   ],
   "source": [
    "b=2+3j\n",
    "print(type(b))"
   ]
  },
  {
   "cell_type": "code",
   "execution_count": 1,
   "id": "dcde7270",
   "metadata": {},
   "outputs": [
    {
     "data": {
      "text/plain": [
       "4489.599999999999"
      ]
     },
     "execution_count": 1,
     "metadata": {},
     "output_type": "execute_result"
    }
   ],
   "source": [
    "#code basics exercises\n",
    "length=92\n",
    "width=48.8\n",
    "area = length*width\n",
    "area "
   ]
  },
  {
   "cell_type": "code",
   "execution_count": 3,
   "id": "d8dbf16b",
   "metadata": {},
   "outputs": [
    {
     "name": "stdout",
     "output_type": "stream",
     "text": [
      "15125.0\n"
     ]
    }
   ],
   "source": [
    "#You want to replace tiles in your bathroom which is exactly square and 5.5 feet is its length. If tiles cost 500 rs per square feet, how much will be the total cost to replace all tiles.\n",
    "length=5.5\n",
    "area=length**2\n",
    "costpersqfeet=500\n",
    "total_cost = area*costpersqfeet\n",
    "print(total_cost)"
   ]
  },
  {
   "cell_type": "code",
   "execution_count": 5,
   "id": "88663c13",
   "metadata": {},
   "outputs": [
    {
     "name": "stdout",
     "output_type": "stream",
     "text": [
      "binary format is 10001\n"
     ]
    }
   ],
   "source": [
    "#Print binary representation of number 17\n",
    "number=17\n",
    "print(\"binary format is \"+ format(number,'b'))"
   ]
  },
  {
   "cell_type": "code",
   "execution_count": 2,
   "id": "3688c838",
   "metadata": {},
   "outputs": [
    {
     "data": {
      "text/plain": [
       "6.59"
      ]
     },
     "execution_count": 2,
     "metadata": {},
     "output_type": "execute_result"
    }
   ],
   "source": [
    "#You bought 9 packets of potato chips from a store. Each packet costs 1.49 dollar and you gave shopkeeper 20 dollar. Find out using python, how many dollars is the shopkeeper going to give you back?\n",
    "chips_packets=9\n",
    "costperpacket=1.49\n",
    "amountgiven= 20 \n",
    "balance=amountgiven - (chips_packets*costperpacket)\n",
    "balance"
   ]
  }
 ],
 "metadata": {
  "kernelspec": {
   "display_name": "Python 3",
   "language": "python",
   "name": "python3"
  },
  "language_info": {
   "codemirror_mode": {
    "name": "ipython",
    "version": 3
   },
   "file_extension": ".py",
   "mimetype": "text/x-python",
   "name": "python",
   "nbconvert_exporter": "python",
   "pygments_lexer": "ipython3",
   "version": "3.12.2"
  }
 },
 "nbformat": 4,
 "nbformat_minor": 5
}
