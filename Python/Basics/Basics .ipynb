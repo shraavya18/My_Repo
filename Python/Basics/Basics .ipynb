{
 "cells": [
  {
   "cell_type": "code",
   "execution_count": null,
   "id": "a18267fe",
   "metadata": {},
   "outputs": [],
   "source": [
    "#single line comment in python \n",
    "#there is no specific notation for multiline comments, just go with hashes or use \"\"\"comments\"\"\" or three single quotes will also work. "
   ]
  },
  {
   "cell_type": "code",
   "execution_count": 5,
   "id": "1c2eda49",
   "metadata": {},
   "outputs": [
    {
     "name": "stdout",
     "output_type": "stream",
     "text": [
      "How are You\n"
     ]
    }
   ],
   "source": [
    "\"\"\"multiline comments in python\"\"\"\n",
    "print(\"How are You\")"
   ]
  },
  {
   "cell_type": "code",
   "execution_count": 1,
   "id": "7fbbeb57",
   "metadata": {},
   "outputs": [
    {
     "name": "stdout",
     "output_type": "stream",
     "text": [
      "Enter your name: shraavya\n",
      "My name is: shraavya\n"
     ]
    }
   ],
   "source": [
    "#giving input \n",
    "a=input(\"Enter your name: \")\n",
    "print(\"My name is: \"+ a)"
   ]
  },
  {
   "cell_type": "code",
   "execution_count": 2,
   "id": "61a83216",
   "metadata": {},
   "outputs": [
    {
     "name": "stdout",
     "output_type": "stream",
     "text": [
      "<class 'str'>\n",
      "<class 'int'>\n"
     ]
    }
   ],
   "source": [
    "#input always returns string\n",
    "x=input(\"Enter your age: \")\n",
    "print(type(x))\n",
    "\n",
    "#So if you want to any other datatype you should convert it \n",
    "y=int(input(\"Enter your favourite number: \"))\n",
    "print(type(y))"
   ]
  },
  {
   "cell_type": "code",
   "execution_count": 4,
   "id": "4376c478",
   "metadata": {},
   "outputs": [
    {
     "name": "stdout",
     "output_type": "stream",
     "text": [
      "Hello World\n"
     ]
    }
   ],
   "source": [
    "#output \n",
    "print(\"Hello World\")"
   ]
  },
  {
   "cell_type": "code",
   "execution_count": 3,
   "id": "881cec9d",
   "metadata": {},
   "outputs": [
    {
     "name": "stdout",
     "output_type": "stream",
     "text": [
      "This is line 1\n",
      "This is line 2\n",
      "This is line 3\n"
     ]
    }
   ],
   "source": [
    "#output printing in multiple lines \n",
    "print(\"This is line 1\\nThis is line 2\\nThis is line 3\")"
   ]
  },
  {
   "cell_type": "code",
   "execution_count": 2,
   "id": "681df63f",
   "metadata": {},
   "outputs": [
    {
     "name": "stdout",
     "output_type": "stream",
     "text": [
      "<class 'str'>\n",
      "<class 'int'>\n"
     ]
    }
   ],
   "source": [
    "#casting\n",
    "a=\"3\"\n",
    "print(type(a))\n",
    "b=int(a)\n",
    "print(type(b))"
   ]
  }
 ],
 "metadata": {
  "kernelspec": {
   "display_name": "Python 3",
   "language": "python",
   "name": "python3"
  },
  "language_info": {
   "codemirror_mode": {
    "name": "ipython",
    "version": 3
   },
   "file_extension": ".py",
   "mimetype": "text/x-python",
   "name": "python",
   "nbconvert_exporter": "python",
   "pygments_lexer": "ipython3",
   "version": "3.12.2"
  }
 },
 "nbformat": 4,
 "nbformat_minor": 5
}
