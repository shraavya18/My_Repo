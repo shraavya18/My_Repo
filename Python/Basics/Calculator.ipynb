{
 "cells": [
  {
   "cell_type": "code",
   "execution_count": null,
   "metadata": {},
   "outputs": [],
   "source": [
    "#simple calculator in python "
   ]
  },
  {
   "cell_type": "code",
   "execution_count": 2,
   "metadata": {},
   "outputs": [
    {
     "name": "stdout",
     "output_type": "stream",
     "text": [
      "Welcome to Calculator\n",
      "The exponent of 2 numbers is  1024\n"
     ]
    },
    {
     "ename": "",
     "evalue": "",
     "output_type": "error",
     "traceback": [
      "\u001b[1;31mThe Kernel crashed while executing code in the current cell or a previous cell. \n",
      "\u001b[1;31mPlease review the code in the cell(s) to identify a possible cause of the failure. \n",
      "\u001b[1;31mClick <a href='https://aka.ms/vscodeJupyterKernelCrash'>here</a> for more info. \n",
      "\u001b[1;31mView Jupyter <a href='command:jupyter.viewOutput'>log</a> for further details."
     ]
    }
   ],
   "source": [
    "print(\"Welcome to Calculator\")\n",
    "number1=int(input(\"Enter number 1: \"))\n",
    "number2=int(input(\"Enter number 2: \"))\n",
    "operation_index = input(\"Enter the choice of operation you want to perform: \\n 1. Addition \\n 2. Subraction \\n 3. Multiplication \\n 4. Division \\n 5. Exponent \\n 6. Floor Division \\n 7. Modulus\")\n",
    "if operation_index==\"1\":\n",
    "    print(\"The sum of 2 numbers is \", number1+number2)\n",
    "elif operation_index==\"2\":\n",
    "    print(\"The difference of 2 numbers is \", number1-number2)\n",
    "elif operation_index==\"3\":\n",
    "    print(\"The product of 2 numbers is \", number1*number2)\n",
    "elif operation_index==\"4\":\n",
    "    print(\"The division of 2 numbers is \", number1/number2)\n",
    "elif operation_index==\"5\":\n",
    "    print(\"The exponent of 2 numbers is \", number1**number2)\n",
    "elif operation_index==\"6\":\n",
    "    print(\"The floor division of 2 numbers is \", number1//number2)\n",
    "else:\n",
    "    print(\"The modulus of 2 numbers is \", number1%number2)\n",
    "\n"
   ]
  }
 ],
 "metadata": {
  "kernelspec": {
   "display_name": "Python 3",
   "language": "python",
   "name": "python3"
  },
  "language_info": {
   "codemirror_mode": {
    "name": "ipython",
    "version": 3
   },
   "file_extension": ".py",
   "mimetype": "text/x-python",
   "name": "python",
   "nbconvert_exporter": "python",
   "pygments_lexer": "ipython3",
   "version": "3.12.2"
  }
 },
 "nbformat": 4,
 "nbformat_minor": 2
}
