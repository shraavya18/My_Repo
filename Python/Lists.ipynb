{
 "cells": [
  {
   "cell_type": "code",
   "execution_count": null,
   "metadata": {},
   "outputs": [],
   "source": [
    "#lists tutorial "
   ]
  },
  {
   "cell_type": "code",
   "execution_count": null,
   "metadata": {},
   "outputs": [
    {
     "name": "stdout",
     "output_type": "stream",
     "text": [
      "['bread', 'pasta', 'fruits', 'veggies']\n"
     ]
    }
   ],
   "source": [
    "items=['bread','pasta','fruits','veggies']\n",
    "print(items)\n",
    "print(items[0])\n",
    "items[0]='chips'\n",
    "print(items)\n",
    "items[0:2]\n",
    "\n",
    "\n",
    "print(items[-1])  #prints the first item from last \n",
    "print(items[-2])  #prints the second last item \n",
    "items.append('butter') #adds an item to the end of the list\n",
    "print(items)\n",
    "items.insert(1,'cheese') #inserts an item cheese at index 1 \n",
    "#joining 2 lists  , assume items as one list \n",
    "items_new =['shampoo','conditioner']\n",
    "grocery=items+items_new\n",
    "print(grocery)\n",
    "len(grocery)\n",
    "'fruits' in items  #lookup in the list "
   ]
  },
  {
   "cell_type": "code",
   "execution_count": 2,
   "metadata": {},
   "outputs": [
    {
     "name": "stdout",
     "output_type": "stream",
     "text": [
      "apple\n",
      "mango\n",
      "['apple', 'kiwi', 'grapes', 'mango', 'plum']\n"
     ]
    }
   ],
   "source": [
    "fruits=['apple','banana','cherry','grapes','mango']\n",
    "print(fruits[0])\n",
    "print(fruits[len(fruits)-1])\n",
    "fruits[2]='kiwi'\n",
    "fruits.append('plum')\n",
    "del fruits[1]\n",
    "print(fruits)"
   ]
  },
  {
   "cell_type": "code",
   "execution_count": 6,
   "metadata": {},
   "outputs": [
    {
     "name": "stdout",
     "output_type": "stream",
     "text": [
      "[1, 2, 3, 4, 5, 6, 7, 8, 9, 10]\n",
      "55\n",
      "5.5\n"
     ]
    }
   ],
   "source": [
    "numbers= list(range(1,11))  #creating list using range function \n",
    "print(numbers)\n",
    "sum=0\n",
    "for i in list(numbers):\n",
    "    sum=sum+i\n",
    "    i=i+1\n",
    "print(sum)\n",
    "average =sum/len(numbers)\n",
    "print(average)"
   ]
  },
  {
   "cell_type": "code",
   "execution_count": null,
   "metadata": {},
   "outputs": [
    {
     "name": "stdout",
     "output_type": "stream",
     "text": [
      "[2, 4, 6, 8, 10, 12, 14, 16, 18, 20]\n",
      "2\n",
      "20\n"
     ]
    }
   ],
   "source": [
    "#creating list using list comprehension \n",
    "even_num=[x*2 for x in range(1,11)]\n",
    "print(even_num)\n",
    "#finding smallest and largest number from list \n",
    "small=even_num[0]\n",
    "large=even_num[0]\n",
    "for i in even_num:\n",
    "    if i<small:\n",
    "        small=i\n",
    "    if i>large: \n",
    "        large=i \n",
    "print(small)\n",
    "print(large)"
   ]
  },
  {
   "cell_type": "code",
   "execution_count": 19,
   "metadata": {},
   "outputs": [
    {
     "name": "stdout",
     "output_type": "stream",
     "text": [
      "red : 2\n",
      "blue : 2\n",
      "green : 2\n",
      "yellow : 1\n",
      "['green', 'red', 'yellow', 'blue', 'green', 'blue', 'red']\n"
     ]
    }
   ],
   "source": [
    "random_list=[\"red\", \"blue\", \"green\", \"blue\", \"yellow\", \"red\", \"green\"]\n",
    "counted_colors =[]  #initializing an empty list to track the counted colors \n",
    "for color in random_list:\n",
    "    if color not in counted_colors:\n",
    "        count=random_list.count(color)\n",
    "        print(f\"{color} : {count}\")\n",
    "        counted_colors.append(color)  #adding the counted colors to list to avoid counting again \n",
    "\n",
    "print(random_list[::-1])  #reversing a list \n"
   ]
  },
  {
   "cell_type": "code",
   "execution_count": 21,
   "metadata": {},
   "outputs": [
    {
     "name": "stdout",
     "output_type": "stream",
     "text": [
      "[1, 2, 3, 4, 5]\n"
     ]
    }
   ],
   "source": [
    "input_list = [1, 2, 2, 3, 4, 4, 5]  #remove duplicates \n",
    "unique_list=[]\n",
    "for i in input_list: \n",
    "    if i not in unique_list: \n",
    "        unique_list.append(i)\n",
    "print(unique_list)"
   ]
  },
  {
   "cell_type": "code",
   "execution_count": 23,
   "metadata": {},
   "outputs": [
    {
     "name": "stdout",
     "output_type": "stream",
     "text": [
      "[1, 2, 3, 4, 5, 6, 7, 8, 9, 10]\n",
      "[1, 4, 9, 16, 25, 36, 49, 64, 81, 100]\n"
     ]
    }
   ],
   "source": [
    "list1=list(range(1,11))\n",
    "print(list1)\n",
    "squares=[x**2 for x in list1]\n",
    "print(squares)"
   ]
  },
  {
   "cell_type": "code",
   "execution_count": 24,
   "metadata": {},
   "outputs": [
    {
     "name": "stdout",
     "output_type": "stream",
     "text": [
      "[4, 5, 6]\n"
     ]
    }
   ],
   "source": [
    "#common elements in 2 lists \n",
    "list1 = [1, 2, 3, 4, 5, 6]\n",
    "list2 = [4, 5, 6, 7, 8, 9]\n",
    "\n",
    "common_elements=[x for x in list1 if x in list2]\n",
    "print(common_elements)"
   ]
  },
  {
   "cell_type": "code",
   "execution_count": null,
   "metadata": {},
   "outputs": [
    {
     "name": "stdout",
     "output_type": "stream",
     "text": [
      "I spent this many dollars extra in feb than jan: 150\n",
      "I spent total of 7150 dollars in first quarter\n",
      "False\n",
      "[2200, 2350, 2600, 1930, 2190, 1980]\n"
     ]
    }
   ],
   "source": [
    "#codebasics assignment \n",
    "exp=[2200,2350,2600,2130,2190]\n",
    "print(\"I spent this many dollars extra in feb than jan:\", exp[1]-exp[0])\n",
    "print(f\"I spent total of {exp[0]+exp[1]+exp[2]} dollars in first quarter\")\n",
    "print(2000 in exp) #is the list having the value 2000 in it \n",
    "exp.append(1980)\n",
    "exp[3]=exp[3]-200\n",
    "print(exp)"
   ]
  },
  {
   "cell_type": "code",
   "execution_count": 15,
   "metadata": {},
   "outputs": [
    {
     "name": "stdout",
     "output_type": "stream",
     "text": [
      "5\n",
      "['spider man', 'thor', 'hulk', 'iron man', 'captain america', 'black panther']\n",
      "['spider man', 'doctor strange', 'black panther', 'iron man', 'captain america']\n",
      "['black panther', 'captain america', 'doctor strange', 'iron man', 'spider man']\n"
     ]
    }
   ],
   "source": [
    "hero=['spider man','thor','hulk','iron man','captain america']\n",
    "print(len(hero))\n",
    "hero.append('black panther')\n",
    "print(hero)\n",
    "#now add black panther after hulk \n",
    "hero.remove('black panther')\n",
    "hero.insert(3,'black panther')\n",
    "#remove thor and hulk and replace them with doctor strange \n",
    "hero[1:3]=['doctor strange']\n",
    "print(hero)\n",
    "hero.sort()\n",
    "print(hero)"
   ]
  },
  {
   "cell_type": "code",
   "execution_count": 17,
   "metadata": {},
   "outputs": [
    {
     "name": "stdout",
     "output_type": "stream",
     "text": [
      "['spider man', 'thor', 'hulk', 'iron man']\n"
     ]
    }
   ],
   "source": [
    "hero1=['spider man','thor','hulk','iron man','captain america']\n",
    "hero1.pop()\n",
    "print(hero1)"
   ]
  },
  {
   "cell_type": "code",
   "execution_count": 24,
   "metadata": {},
   "outputs": [
    {
     "name": "stdout",
     "output_type": "stream",
     "text": [
      "[1, 2, 3, 4, 5, 6, 7, 8, 9, 10, 11]\n",
      "5\n",
      "6\n"
     ]
    }
   ],
   "source": [
    "#Count Even and Odd Numbers\n",
    "numbers=list(range(1,12))\n",
    "print(numbers)\n",
    "even=[]\n",
    "odd=[]\n",
    "for num in numbers:\n",
    "    if num%2==0:\n",
    "        even.append(num)\n",
    "    else:\n",
    "        odd.append(num)\n",
    "\n",
    "print(len(even))\n",
    "print(len(odd))"
   ]
  },
  {
   "cell_type": "code",
   "execution_count": 26,
   "metadata": {},
   "outputs": [
    {
     "name": "stdout",
     "output_type": "stream",
     "text": [
      "[1, 2, 3, 4, 5, 6, 9, 0, 88]\n"
     ]
    }
   ],
   "source": [
    "numbers=[1,1,2,2,3,4,5,6,6,9,0,88,9,0]\n",
    "uniq_numbers=[]\n",
    "for num in numbers:\n",
    "    if num not in uniq_numbers:\n",
    "        uniq_numbers.append(num)\n",
    "print(uniq_numbers)"
   ]
  },
  {
   "cell_type": "code",
   "execution_count": 34,
   "metadata": {},
   "outputs": [
    {
     "name": "stdout",
     "output_type": "stream",
     "text": [
      "[0, 9, 88, 0, 9, 6, 6, 5, 4, 3, 2, 2, 1, 1]\n"
     ]
    }
   ],
   "source": [
    "#reversing list without using slicing and reverse() method \n",
    "numbers1=[1,1,2,2,3,4,5,6,6,9,0,88,9,0]\n",
    "rev_numbers1=[]\n",
    "for num in range(len(numbers1)-1,-1,-1):\n",
    "    rev_numbers1.append(numbers1[num])\n",
    "print(rev_numbers1)\n",
    "\n"
   ]
  },
  {
   "cell_type": "code",
   "execution_count": 37,
   "metadata": {},
   "outputs": [
    {
     "name": "stdout",
     "output_type": "stream",
     "text": [
      "[2, 3, 4, 5, 1]\n"
     ]
    }
   ],
   "source": [
    "#Rotate a List to the Left by One Position\n",
    "numbers5 = [1, 2, 3, 4, 5]\n",
    "rotated_list=numbers5[1:]+[numbers5[0]]\n",
    "print(rotated_list)\n"
   ]
  }
 ],
 "metadata": {
  "kernelspec": {
   "display_name": "Python 3",
   "language": "python",
   "name": "python3"
  },
  "language_info": {
   "codemirror_mode": {
    "name": "ipython",
    "version": 3
   },
   "file_extension": ".py",
   "mimetype": "text/x-python",
   "name": "python",
   "nbconvert_exporter": "python",
   "pygments_lexer": "ipython3",
   "version": "3.12.2"
  }
 },
 "nbformat": 4,
 "nbformat_minor": 2
}
