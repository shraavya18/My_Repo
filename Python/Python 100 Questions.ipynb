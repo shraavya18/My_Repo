{
 "cells": [
  {
   "cell_type": "code",
   "execution_count": null,
   "metadata": {},
   "outputs": [],
   "source": [
    "#1. User will input (3ages).Find the oldest one\n",
    "age1=int(input(\"Enter age 1: \"))\n",
    "age2=int(input(\"Enter age 2: \"))\n",
    "age3=int(input(\"Enter age 3: \"))\n",
    "def max_age(a1,a2,a3):\n",
    "    if age1==age2==age3:\n",
    "        print(\"All three are of same age\")\n",
    "    elif age1>age2 and age1>age3:\n",
    "        print(age1, \"is older\")\n",
    "    elif age2>age1 and age2>age3:\n",
    "        print(age2, \"is older\")\n",
    "    else:\n",
    "        print(age3, \"is older\") \n",
    "max_age(age1, age2, age3)  \n",
    "\n",
    "print(max(age1,age2,age3)) #using in built fucntions"
   ]
  },
  {
   "cell_type": "code",
   "execution_count": null,
   "metadata": {},
   "outputs": [],
   "source": [
    "#2.Write a program that will convert celsius value to fahrenheit\n",
    "def cel_to_far(cel):\n",
    "    far=(9/5)*cel+32\n",
    "    return far\n",
    "cel_to_far(34)"
   ]
  },
  {
   "cell_type": "code",
   "execution_count": null,
   "metadata": {},
   "outputs": [],
   "source": [
    "#3. User will input (2numbers).Write a program to swap the numbers\n",
    "num1=input(\"Enter number 1\")\n",
    "num2=input(\"Enter number 2\")\n",
    "temp=num1\n",
    "num1=num2\n",
    "num2=temp\n",
    "print(f\"after swapping num1 is {num1} and num2 is {num2}\")"
   ]
  },
  {
   "cell_type": "code",
   "execution_count": null,
   "metadata": {},
   "outputs": [],
   "source": [
    "#4. Write a program that will give you the sum of 3 digits in a 3 digit number \n",
    "number=123\n",
    "third_digit=number%10\n",
    "temp=number//10\n",
    "second_digit=temp%10 \n",
    "first_digit=temp//10\n",
    "print(first_digit+second_digit+third_digit)"
   ]
  },
  {
   "cell_type": "code",
   "execution_count": null,
   "metadata": {},
   "outputs": [],
   "source": [
    "#5.Write a program that will reverse a four digit number.Also it checks whether the reverse is true.\n",
    "number=1234\n",
    "number=str(number) #bcz slicing cannot be done on integer\n",
    "rev_number=number[::-1]\n",
    "print(rev_number)"
   ]
  },
  {
   "cell_type": "code",
   "execution_count": null,
   "metadata": {},
   "outputs": [],
   "source": [
    "#6. Write a program that will tell whether the number entered by the user is odd or even.\n",
    "number=int(input(\"enter the number you want to check: \"))\n",
    "if number %2==0:\n",
    "    print(\"Even\")\n",
    "else:\n",
    "    print(\"Odd\")"
   ]
  },
  {
   "cell_type": "code",
   "execution_count": null,
   "metadata": {},
   "outputs": [],
   "source": [
    "#7. Write a program that will tell whether the given year is a leap year or not.\n",
    "year_check=int(input(\"Enter the year you want to check: \"))\n",
    "if year_check%4==0:\n",
    "    print(f\"{year_check} is a leap year\")\n",
    "else:\n",
    "    print(f\"{year_check} is not a leap year\")"
   ]
  },
  {
   "cell_type": "code",
   "execution_count": null,
   "metadata": {},
   "outputs": [],
   "source": [
    "#8.Write a program to find the euclidean distance between two coordinates.\n",
    "import math\n",
    "x1,x2=6,3\n",
    "y1,y2=8,9\n",
    "distance_square=pow((x2-x1),2)+pow((y2-y1),2)\n",
    "distance=math.sqrt(distance_square)\n",
    "print(f\"the euclidian distance is: {distance}\")"
   ]
  },
  {
   "cell_type": "code",
   "execution_count": null,
   "metadata": {},
   "outputs": [],
   "source": [
    "#9. Write a program that take a user inputr of three angles and will find out whether it can form a triangle or not.\n",
    "angle1=int(input(\"Enter angle 1\"))\n",
    "angle2=int(input(\"Enter angle 2\"))\n",
    "angle3=int(input(\"Enter angle 3\"))\n",
    "if angle1+angle2+angle3==180:\n",
    "    print(\"They can form a triangle\")\n",
    "else:\n",
    "    print(\"Cannot form a triangle\")"
   ]
  },
  {
   "cell_type": "code",
   "execution_count": null,
   "metadata": {},
   "outputs": [],
   "source": [
    "#10.Write a program that will take user input of cost price and selling price and determines whether its a loss or a profit\n",
    "cost_price=int(input(\"Enter cost price:\"))\n",
    "selling_price=int(input(\"Enter selling price\"))\n",
    "if cost_price<selling_price:\n",
    "    print(\"Profit by \",selling_price-cost_price)\n",
    "elif cost_price>selling_price:\n",
    "    print(\"Loss by\", cost_price-selling_price)\n",
    "else:\n",
    "    print(\"No Loss No Profit\")"
   ]
  },
  {
   "cell_type": "code",
   "execution_count": null,
   "metadata": {},
   "outputs": [],
   "source": [
    "#13. Write  a program that will tell whether the given number is divisible by 3 & 6.\n",
    "number=int(input(\"Enter the number:\"))\n",
    "if number==3:\n",
    "    print(\"Number is not divisible by both 3 and 6\")\n",
    "elif number%6==0:\n",
    "    print(\"number is divisible by both 3 and 6\")\n",
    "else:\n",
    "    print(\"Number is not divisible by 3 and 6\")\n"
   ]
  },
  {
   "cell_type": "code",
   "execution_count": null,
   "metadata": {},
   "outputs": [
    {
     "name": "stdout",
     "output_type": "stream",
     "text": [
      "The weather is Cool\n"
     ]
    }
   ],
   "source": [
    "#16.Write a program that will determine weather when the value of temperature and humidity is provided by the user.\n",
    "# TEMPERATURE(C)      HUMIDITY(%)      WEATHE\n",
    "#       >= 30                             >=90                Hot and Humid\n",
    "#       >= 30                             < 90                 Hot\n",
    "#       <30                                >= 90               Cool and Humid\n",
    "#       <30                                 <90                 Cool\n",
    "temperature=int(input(\"Enter the temperature: \"))\n",
    "humidity=int(input(\"Enter the humidity: \"))\n",
    "if temperature>=30 and humidity>=90:\n",
    "    weather=\"Hot and Humid\"\n",
    "elif temperature>=30 and humidity<90:\n",
    "    weather=\"Hot\"\n",
    "elif temperature<30 and humidity>=90:\n",
    "    weather=\"Cool and Humid\"\n",
    "elif temperature<30 and humidity<90:\n",
    "    weather=\"Cool\"\n",
    "print(f\"The weather is {weather}\")"
   ]
  },
  {
   "cell_type": "code",
   "execution_count": null,
   "metadata": {},
   "outputs": [
    {
     "name": "stdout",
     "output_type": "stream",
     "text": [
      "1 2 3\n",
      "14\n"
     ]
    }
   ],
   "source": [
    "#17.Write a program that will take three digits from the user and add the square of each digit.\n",
    "digit=int(input(\"Enter the three digit number: \"))\n",
    "ones_place=digit%10\n",
    "tens_place_temp=digit//10\n",
    "tens_place=tens_place_temp%10\n",
    "hund_place=tens_place_temp//10\n",
    "sum_of_squares=hund_place**2+tens_place**2+ones_place**2\n",
    "print(sum_of_squares)\n"
   ]
  }
 ],
 "metadata": {
  "kernelspec": {
   "display_name": "Python 3",
   "language": "python",
   "name": "python3"
  },
  "language_info": {
   "codemirror_mode": {
    "name": "ipython",
    "version": 3
   },
   "file_extension": ".py",
   "mimetype": "text/x-python",
   "name": "python",
   "nbconvert_exporter": "python",
   "pygments_lexer": "ipython3",
   "version": "3.12.2"
  }
 },
 "nbformat": 4,
 "nbformat_minor": 2
}
