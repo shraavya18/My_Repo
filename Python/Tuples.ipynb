{
 "cells": [
  {
   "cell_type": "code",
   "execution_count": null,
   "metadata": {},
   "outputs": [],
   "source": [
    "#Tuples Practice"
   ]
  },
  {
   "cell_type": "code",
   "execution_count": null,
   "metadata": {},
   "outputs": [],
   "source": [
    "#creating a tuple - 2 ways - () and tuple() method \n",
    "my_tuple=(\"Alice\", 25, \"Engineer\", 25)\n",
    "\n",
    "#accessing elements of a tuple  - similar to lists\n",
    "my_tuple[0]\n",
    "my_tuple[0:2]  #slicing\n",
    "\n",
    "#tuple built in methods - only few bcz they are immutable \n",
    "print(my_tuple.count(25))\n",
    "print(my_tuple.index(\"Alice\"))"
   ]
  },
  {
   "cell_type": "code",
   "execution_count": null,
   "metadata": {},
   "outputs": [],
   "source": [
    "#packing and unpacking of tuples \n",
    "#packing \n",
    "person = (\"Alice\", 25, \"Engineer\")\n",
    "#unpacking \n",
    "name,age,profession = person \n",
    "print(name)\n",
    "print(age)\n",
    "print(profession)"
   ]
  },
  {
   "cell_type": "code",
   "execution_count": null,
   "metadata": {},
   "outputs": [],
   "source": [
    "#code basics assignment\n",
    "import statistics\n",
    "\n",
    "stocks = {\n",
    "    'info': [600,630,620],\n",
    "    'ril': [1430,1490,1567],\n",
    "    'mtl': [234,180,160]\n",
    "}\n",
    "\n",
    "def print_all():\n",
    "    for stock,price_list in stocks.items():\n",
    "        avg = statistics.mean(price_list)\n",
    "        print(f\"{stock} ==> {price_list} ==> avg: \",round(avg,2))\n",
    "\n",
    "\n",
    "def add():\n",
    "    s = input(\"Enter a stock ticker to add:\")\n",
    "    p = input(\"Enter price of this stock:\")\n",
    "    p=float(p)\n",
    "    if s in stocks:\n",
    "        stocks[s].append(p)\n",
    "    else:\n",
    "        stocks[s] = [p]\n",
    "    print_all()\n",
    "\n",
    "\n",
    "def main():\n",
    "    op=input(\"Enter operation (print, add or amend):\")\n",
    "    if op.lower() == 'print':\n",
    "        print_all()\n",
    "    elif op.lower() == 'add':\n",
    "        add()\n",
    "    else:\n",
    "        print(\"Unsupported operation:\",op)\n",
    "\n",
    "if __name__ == '__main__':\n",
    "    main()"
   ]
  },
  {
   "cell_type": "code",
   "execution_count": 7,
   "metadata": {},
   "outputs": [
    {
     "name": "stdout",
     "output_type": "stream",
     "text": [
      "area 153.86, circumference 43.96, diameter 14.0\n"
     ]
    }
   ],
   "source": [
    "#Write circle_calc() function that takes radius of a circle as an input from user and then it calculates and returns area, circumference and diameter. \n",
    "# You should get these values in your main program by calling circle_calc function and then print them\n",
    "\n",
    "def circle_calc(rad):\n",
    "    area=3.14*rad**2\n",
    "    circumference=2*3.14*rad\n",
    "    diameter=2*rad\n",
    "    return area,circumference,diameter\n",
    "\n",
    "if __name__==\"__main__\":\n",
    "    r=input(\"Enter a radius:\")\n",
    "    r=float(r)\n",
    "    area, c, d = circle_calc(r)\n",
    "    print(f\"area {area}, circumference {c}, diameter {d}\")"
   ]
  }
 ],
 "metadata": {
  "kernelspec": {
   "display_name": "Python 3",
   "language": "python",
   "name": "python3"
  },
  "language_info": {
   "codemirror_mode": {
    "name": "ipython",
    "version": 3
   },
   "file_extension": ".py",
   "mimetype": "text/x-python",
   "name": "python",
   "nbconvert_exporter": "python",
   "pygments_lexer": "ipython3",
   "version": "3.12.2"
  }
 },
 "nbformat": 4,
 "nbformat_minor": 2
}
