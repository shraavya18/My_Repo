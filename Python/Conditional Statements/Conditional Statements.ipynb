{
 "cells": [
  {
   "cell_type": "code",
   "execution_count": null,
   "metadata": {},
   "outputs": [],
   "source": [
    "#conditional statements practice - if, else, elif\n",
    "#simple examples with practice questions are covered here. "
   ]
  },
  {
   "cell_type": "code",
   "execution_count": 4,
   "metadata": {},
   "outputs": [
    {
     "name": "stdout",
     "output_type": "stream",
     "text": [
      "It's warm\n",
      "Keep hydrated and drink water\n",
      "This is the temperature update for now\n"
     ]
    }
   ],
   "source": [
    "#simple if statement \n",
    "temperature=35\n",
    "if temperature>30:\n",
    "    print(\"It's warm\")\n",
    "    print(\"Keep hydrated and drink water\")\n",
    "print(\"This is the temperature update for now\")  #will execute if loop is true or not, because it is outside of the indentation. \n"
   ]
  },
  {
   "cell_type": "code",
   "execution_count": 5,
   "metadata": {},
   "outputs": [
    {
     "name": "stdout",
     "output_type": "stream",
     "text": [
      "The weather is very nice\n",
      "This is the temperature update for now\n"
     ]
    }
   ],
   "source": [
    "#simple elseif \n",
    "temperature=15\n",
    "if temperature>30:\n",
    "    print(\"It's warm\")\n",
    "    print(\"Keep hydrated and drink water\")\n",
    "else: \n",
    "    print(\"The weather is very nice\")\n",
    "print(\"This is the temperature update for now\")\n",
    "\n"
   ]
  },
  {
   "cell_type": "code",
   "execution_count": 2,
   "metadata": {},
   "outputs": [
    {
     "name": "stdout",
     "output_type": "stream",
     "text": [
      "The weather is nice\n",
      "This is the temperature update for now\n"
     ]
    }
   ],
   "source": [
    "#elif stmt - for multiple conditions - short form for else if \n",
    "temperature=25\n",
    "if temperature>30:\n",
    "    print(\"It's warm\")\n",
    "    print(\"Keep hydrated and drink water\")\n",
    "elif temperature>20:\n",
    "    print(\"The weather is nice\")\n",
    "else: \n",
    "    print(\"It's very cold\")\n",
    "print(\"This is the temperature update for now\")"
   ]
  },
  {
   "cell_type": "code",
   "execution_count": 3,
   "metadata": {},
   "outputs": [
    {
     "name": "stdout",
     "output_type": "stream",
     "text": [
      "eligible for admission\n"
     ]
    }
   ],
   "source": [
    "#another example \n",
    "age=22\n",
    "if age>=18:\n",
    "    message=\"eligible for admission\"\n",
    "else:\n",
    "    message=\"Not eligible\"\n",
    "print(message)"
   ]
  },
  {
   "cell_type": "code",
   "execution_count": 6,
   "metadata": {},
   "outputs": [
    {
     "name": "stdout",
     "output_type": "stream",
     "text": [
      "eligible for admission\n"
     ]
    }
   ],
   "source": [
    "#writing above code using ternary operators \n",
    "age=22\n",
    "message=\"eligible for admission\" if age>=18 else \"not eligible\"\n",
    "print(message)"
   ]
  },
  {
   "cell_type": "code",
   "execution_count": 8,
   "metadata": {},
   "outputs": [
    {
     "name": "stdout",
     "output_type": "stream",
     "text": [
      "odd\n"
     ]
    }
   ],
   "source": [
    "#even odd\n",
    "number=int(input(\"Enter your number: \"))\n",
    "if number%2==0:\n",
    "    print(\"Even\")\n",
    "else:\n",
    "    print(\"odd\")"
   ]
  },
  {
   "cell_type": "code",
   "execution_count": 9,
   "metadata": {},
   "outputs": [
    {
     "name": "stdout",
     "output_type": "stream",
     "text": [
      "negative\n"
     ]
    }
   ],
   "source": [
    "#positive, negative, zero \n",
    "number=int(input(\"Enter your number: \"))\n",
    "if number>0:\n",
    "    print(\"positive\")\n",
    "elif number==0:\n",
    "    print(\"Zero\")\n",
    "else: \n",
    "    print(\"negative\")"
   ]
  },
  {
   "cell_type": "code",
   "execution_count": 13,
   "metadata": {},
   "outputs": [
    {
     "name": "stdout",
     "output_type": "stream",
     "text": [
      "8 is the largest number\n"
     ]
    }
   ],
   "source": [
    "#comparing three numbers \n",
    "num1=int(input(\"Enter your number1: \"))\n",
    "num2=int(input(\"Enter your number2: \"))\n",
    "num3=int(input(\"Enter your number3: \"))\n",
    "if num1>num2 and num1>num3:\n",
    "    #print(num1 ,\"is the greatest number \")\n",
    "    largest=num1\n",
    "elif num2>num1 and num2>num3: \n",
    "    #print(num2 ,\"is the greatest number \")\n",
    "    largest=num2\n",
    "else:\n",
    "    #print(num3 ,\"is the greatest number \")\n",
    "    largest=num3\n",
    "print(largest, \"is the largest number\")"
   ]
  },
  {
   "cell_type": "code",
   "execution_count": 18,
   "metadata": {},
   "outputs": [
    {
     "name": "stdout",
     "output_type": "stream",
     "text": [
      "please enter the valid input\n"
     ]
    }
   ],
   "source": [
    "#vowel or consonant - if not an alphabet, print some message \n",
    "aplhabet=input(\"Enter your alphabet\")\n",
    "if len(aplhabet)==1 and aplhabet.isalpha():\n",
    "    if aplhabet in ['a','e','i','o','u']:\n",
    "        print(\"vowel\")\n",
    "    else:\n",
    "        print(\"consonant\")\n",
    "else: \n",
    "    print(\"please enter the valid input\")"
   ]
  },
  {
   "cell_type": "code",
   "execution_count": 24,
   "metadata": {},
   "outputs": [
    {
     "name": "stdout",
     "output_type": "stream",
     "text": [
      "Your discount is 15 percent and your new price is 63.75\n"
     ]
    }
   ],
   "source": [
    "#discount and price \n",
    "price=int(input(\"Enter the Price: \"))\n",
    "if price>=100: \n",
    "    discount=25\n",
    "elif price>50 and price<100:\n",
    "    discount=15\n",
    "elif price>25 and price<50:\n",
    "    discount=10\n",
    "else:\n",
    "    discount=5\n",
    "price = price - ((price*discount)/100)\n",
    "print(\"Your discount is\", discount, \"percent and your new price is\", price)"
   ]
  },
  {
   "cell_type": "code",
   "execution_count": 27,
   "metadata": {},
   "outputs": [
    {
     "name": "stdout",
     "output_type": "stream",
     "text": [
      "Scalene\n"
     ]
    }
   ],
   "source": [
    "#triangle type based on sides length\n",
    "side1=int(input(\"Enter the side: \"))\n",
    "side2=int(input(\"Enter the side: \"))\n",
    "side3=int(input(\"Enter the side: \"))\n",
    "if side1==side2==side3:\n",
    "    print(\"Equilateral\")\n",
    "elif side1==side2 or side1==side3 or side2==side3:\n",
    "    print(\"Isoceles\")\n",
    "else: \n",
    "    print(\"Scalene\")"
   ]
  },
  {
   "cell_type": "code",
   "execution_count": 32,
   "metadata": {},
   "outputs": [
    {
     "name": "stdout",
     "output_type": "stream",
     "text": [
      "Please enter a valid grade between 0 and 100\n"
     ]
    }
   ],
   "source": [
    "#Grade checker with input validation \n",
    "grade=int(input(\"Enter the Grade\"))\n",
    "if grade>0 and grade<100 and grade.is_integer():\n",
    "    if grade>90:\n",
    "        print(\"A\")\n",
    "    elif grade>80: \n",
    "        print(\"B\")\n",
    "    elif grade>70:\n",
    "        print(\"C\")\n",
    "    else:\n",
    "        print(\"not a good grade\")\n",
    "else:\n",
    "    print(\"Please enter a valid grade between 0 and 100\")"
   ]
  },
  {
   "cell_type": "code",
   "execution_count": 37,
   "metadata": {},
   "outputs": [
    {
     "name": "stdout",
     "output_type": "stream",
     "text": [
      "You win!\n"
     ]
    }
   ],
   "source": [
    "#rock, paper, scissor with computer\n",
    "import random\n",
    "\n",
    "\n",
    "optiions=['rock','paper','scissor']\n",
    "user_choice=input(\"Enter your choice from rock, paper, scissor\").lower()\n",
    "computer_choice=random.choice(optiions)\n",
    "\n",
    "if user_choice==computer_choice:\n",
    "    print(\"it's a tie\")\n",
    "elif (user_choice == 'rock' and computer_choice == 'scissors') or \\\n",
    "         (user_choice == 'scissors' and computer_choice == 'paper') or \\\n",
    "         (user_choice == 'paper' and computer_choice == 'rock'):\n",
    "        print(\"You win!\")\n",
    "else:\n",
    "        print(\"Computer wins!\")"
   ]
  },
  {
   "cell_type": "code",
   "execution_count": null,
   "metadata": {},
   "outputs": [
    {
     "name": "stdout",
     "output_type": "stream",
     "text": [
      "city not found\n"
     ]
    }
   ],
   "source": [
    "#code basics assignment\n",
    "india = [\"mumbai\", \"banglore\", \"chennai\", \"delhi\"]\n",
    "pakistan = [\"lahore\",\"karachi\",\"islamabad\"]\n",
    "bangladesh = [\"dhaka\", \"khulna\", \"rangpur\"]\n",
    "\n",
    "#Write a program that asks user to enter a city name and it should tell which country the city belongs to\n",
    "city=input(\"Enter the city you want to check: \")\n",
    "if city in india:\n",
    "    print(f\"the city {city} is in India\")\n",
    "elif city in pakistan:\n",
    "    print(f\"the city {city} is in Pakistan\")\n",
    "elif city in bangladesh:\n",
    "    print(f\"the city {city} is in Bangladesh\")\n",
    "else:\n",
    "    print(\"city not found\")"
   ]
  },
  {
   "cell_type": "code",
   "execution_count": 12,
   "metadata": {},
   "outputs": [
    {
     "name": "stdout",
     "output_type": "stream",
     "text": [
      "They both belong to bangladesh\n"
     ]
    }
   ],
   "source": [
    "#Write a program that asks user to enter two cities and it tells you if they both are in same country or not. For example if I enter mumbai and chennai, \n",
    "# it will print \"Both cities are in India\" but if I enter mumbai and dhaka it should print \"They don't belong to same country\"\n",
    "city1=input(\"Enter the city1 you want to check: \")\n",
    "city2=input(\"Enter the city2 you want to check: \")\n",
    "if city1 in india and city2 in india:\n",
    "    print(\"They both belong to India\")\n",
    "elif city1 in pakistan and city2 in pakistan:\n",
    "    print(\"They both belong to pakistan\")\n",
    "elif city1 in bangladesh and city2 in bangladesh:\n",
    "    print(\"They both belong to bangladesh\")\n",
    "else:\n",
    "    print(\"They don't belong to same country\")"
   ]
  },
  {
   "cell_type": "code",
   "execution_count": 16,
   "metadata": {},
   "outputs": [
    {
     "name": "stdout",
     "output_type": "stream",
     "text": [
      "Sugar is low\n"
     ]
    }
   ],
   "source": [
    "#Write a python program that can tell you if your sugar is normal or not.\n",
    "sugar_level=int(input(\"Enter your sugar level:\"))\n",
    "if sugar_level<80:\n",
    "    print(\"Sugar is low\")\n",
    "elif sugar_level>100:\n",
    "    print(\"Sugar is high\")\n",
    "else:\n",
    "    print(\"normal\")"
   ]
  }
 ],
 "metadata": {
  "kernelspec": {
   "display_name": "Python 3",
   "language": "python",
   "name": "python3"
  },
  "language_info": {
   "codemirror_mode": {
    "name": "ipython",
    "version": 3
   },
   "file_extension": ".py",
   "mimetype": "text/x-python",
   "name": "python",
   "nbconvert_exporter": "python",
   "pygments_lexer": "ipython3",
   "version": "3.12.2"
  }
 },
 "nbformat": 4,
 "nbformat_minor": 2
}
