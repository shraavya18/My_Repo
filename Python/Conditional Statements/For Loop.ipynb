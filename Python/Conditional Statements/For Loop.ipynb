{
 "cells": [
  {
   "cell_type": "code",
   "execution_count": null,
   "metadata": {},
   "outputs": [],
   "source": [
    "#For loop practice"
   ]
  },
  {
   "cell_type": "code",
   "execution_count": null,
   "metadata": {},
   "outputs": [],
   "source": [
    "#counting number of 1's\n",
    "list1=[1,2,3,1,4,5,1,6,7,8,1,1,1,1]\n",
    "count=0\n",
    "for i in list1:\n",
    "    if i==1:\n",
    "        count=count+1\n",
    "print(count)"
   ]
  },
  {
   "cell_type": "code",
   "execution_count": null,
   "metadata": {},
   "outputs": [],
   "source": [
    "#for loop with else \n",
    "for x in range(6):\n",
    "    print(x)\n",
    "else: \n",
    "    print(\"finally finished\")\n"
   ]
  },
  {
   "cell_type": "code",
   "execution_count": null,
   "metadata": {},
   "outputs": [],
   "source": [
    "#print the elements in a list/array\n",
    "list1=[2,3,4,5,6]\n",
    "for i in [0,1,2,3,4]:\n",
    "    print(list1[i])\n",
    "print(\"---------------\")\n",
    "#same code using range()\n",
    "for i in range(len(list1)):\n",
    "    print(list1[i])"
   ]
  },
  {
   "cell_type": "code",
   "execution_count": null,
   "metadata": {},
   "outputs": [],
   "source": [
    "#print numbers from 1 to 10\n",
    "for num in range(1,11):\n",
    "    num+1\n",
    "    print(num)"
   ]
  },
  {
   "cell_type": "code",
   "execution_count": null,
   "metadata": {},
   "outputs": [],
   "source": [
    "#sum of all even numbers from 1 to 100\n",
    "sum=0\n",
    "for num in range(2,101,2):\n",
    "   sum=sum+num\n",
    "print(sum)"
   ]
  },
  {
   "cell_type": "code",
   "execution_count": null,
   "metadata": {},
   "outputs": [],
   "source": [
    "#factorial\n",
    "num=int(input(\"Enter the number: \"))\n",
    "factorial=1\n",
    "for i in range(1,num+1):\n",
    "    factorial=factorial*i\n",
    "print(\"The factorial of\", num, \"is\", factorial)"
   ]
  },
  {
   "cell_type": "code",
   "execution_count": null,
   "metadata": {},
   "outputs": [],
   "source": [
    "#multiplication table \n",
    "num=4\n",
    "product=1\n",
    "for i in range(1,11):\n",
    "    product=num*i\n",
    "    print(product) "
   ]
  },
  {
   "cell_type": "code",
   "execution_count": null,
   "metadata": {},
   "outputs": [],
   "source": [
    "#counting vowels \n",
    "your_string = \"missisipii\"\n",
    "count=0\n",
    "for i in range(len(your_string)):\n",
    "    if(your_string[i] in ['a','e','i','o','u']):\n",
    "        count=count+1\n",
    "print(count)"
   ]
  },
  {
   "cell_type": "code",
   "execution_count": null,
   "metadata": {},
   "outputs": [],
   "source": [
    "#string reversal\n",
    "your_string = \"panasonic\"\n",
    "rev_string=\"\"\n",
    "for i in your_string:\n",
    "    rev_string=i+rev_string\n",
    "print(rev_string)"
   ]
  },
  {
   "cell_type": "code",
   "execution_count": null,
   "metadata": {},
   "outputs": [],
   "source": [
    "#fibonacci - 0,1,1,2,3,5,8,13...\n",
    "num1=0\n",
    "num2=1\n",
    "sum=0\n",
    "for i in range(7):\n",
    "    sum=num1+num2\n",
    "    num1=num2\n",
    "    num2=sum\n",
    "    print(sum)"
   ]
  },
  {
   "cell_type": "code",
   "execution_count": null,
   "metadata": {},
   "outputs": [],
   "source": [
    "#list of squares from 1 to 20 \n",
    "for i in range(21):\n",
    "    print(i**2)\n",
    "\n",
    "#with list \n",
    "squares =[] #initialized an empty list\n",
    "for i in range(21):\n",
    "    square=i**2\n",
    "    squares.append(square)\n",
    "print(squares)"
   ]
  },
  {
   "cell_type": "code",
   "execution_count": null,
   "metadata": {},
   "outputs": [],
   "source": [
    "#star pattern \n",
    "for i in range(7):\n",
    "    print('*'*i)\n",
    "    i=i+1"
   ]
  },
  {
   "cell_type": "code",
   "execution_count": null,
   "metadata": {},
   "outputs": [],
   "source": [
    "#counting down \n",
    "num=11\n",
    "for i in range(10):\n",
    "    print(num-1)\n",
    "    num=num-1"
   ]
  },
  {
   "cell_type": "code",
   "execution_count": null,
   "metadata": {},
   "outputs": [],
   "source": [
    "#counting number of digits\n",
    "number=56780349\n",
    "count=0\n",
    "for i in str(number):  #conversion into str makes it easier for iteration\n",
    "    count=count+1\n",
    "print(count)"
   ]
  },
  {
   "cell_type": "code",
   "execution_count": null,
   "metadata": {},
   "outputs": [],
   "source": [
    "#generate a list of even numbers \n",
    "list1=[]\n",
    "for i in range(0,51,2):\n",
    "    list1.append(i)\n",
    "print(list1)"
   ]
  },
  {
   "cell_type": "code",
   "execution_count": null,
   "metadata": {},
   "outputs": [],
   "source": [
    "#code basics assignemtns\n",
    "#Using for loop figure out how many times you got heads\n",
    "result = [\"heads\",\"tails\",\"tails\",\"heads\",\"tails\",\"heads\",\"heads\",\"tails\",\"tails\",\"tails\",\"heads\"]\n",
    "count=0\n",
    "for outcome in result:\n",
    "    if outcome=='heads':\n",
    "        count=count+1\n",
    "print(count)"
   ]
  },
  {
   "cell_type": "code",
   "execution_count": null,
   "metadata": {},
   "outputs": [],
   "source": [
    "#Print square of all numbers between 1 to 10 except even numbers\n",
    "for num in range(1,11):\n",
    "    if num%2!=0:\n",
    "        print(num**2)"
   ]
  },
  {
   "cell_type": "code",
   "execution_count": null,
   "metadata": {},
   "outputs": [],
   "source": [
    "expense_list = [2340, 2500, 2100, 3100, 2980]\n",
    "#Write a program that asks you to enter an expense amount and program should tell you in which month that expense occurred. \n",
    "# If expense is not found then it should print that as well.\n",
    "expense_amount=int(input(\"Enter the expense amount\"))\n",
    "for expense in expense_list:\n",
    "    if expense_amount==expense_list[0]:\n",
    "        print(\"January\")\n",
    "        break\n",
    "    elif expense_amount==expense_list[1]:\n",
    "        print(\"February\")\n",
    "        break\n",
    "    elif expense_amount==expense_list[2]:\n",
    "        print(\"March\")\n",
    "        break\n",
    "    elif expense_amount==expense_list[3]:\n",
    "        print(\"April\")\n",
    "        break\n",
    "    elif expense_amount==expense_list[4]:\n",
    "        print(\"May\")\n",
    "        break\n",
    "    else:\n",
    "        print(\"Expense amount not found\")\n",
    "        break"
   ]
  },
  {
   "cell_type": "code",
   "execution_count": 22,
   "metadata": {},
   "outputs": [
    {
     "name": "stdout",
     "output_type": "stream",
     "text": [
      "You didn't spend 5698 in any month\n"
     ]
    }
   ],
   "source": [
    "#another way to do this \n",
    "month_list = [\"January\", \"February\", \"March\", \"April\", \"May\"]\n",
    "expense_list = [2340, 2500, 2100, 3100, 2980]\n",
    "e = input(\"Enter expense amount: \")\n",
    "e = int(e)\n",
    "\n",
    "month = -1\n",
    "for i in range(len(expense_list)):\n",
    "    if e == expense_list[i]:\n",
    "        month = i\n",
    "        break\n",
    "\n",
    "if month != -1:\n",
    "    print(f'You spent {e} in {month_list[month]}')\n",
    "else:\n",
    "    print(f'You didn\\'t spend {e} in any month')"
   ]
  },
  {
   "cell_type": "code",
   "execution_count": null,
   "metadata": {},
   "outputs": [],
   "source": [
    "#Lets say you are running a 5 km race. Write a program that,\n",
    "# Upon completing each 1 km asks you \"are you tired?\"\n",
    "# If you reply \"yes\" then it should break and print \"you didn't finish the race\"\n",
    "# If you reply \"no\" then it should continue and ask \"are you tired\" on every km\n",
    "# If you finish all 5 km then it should print congratulations message\n",
    "\n",
    "for distance in range(5):\n",
    "    print(f\"You ran {distance+1} miles\")\n",
    "    tiered=input(\"Are you tiered? \")\n",
    "    if tiered=='yes':\n",
    "        break\n",
    "\n",
    "if distance==4:\n",
    "        print(\"Congratulations, you won the race\")\n",
    "else:\n",
    "        print(f\"You did not finish the race. You just ran {distance+1} miles. \")"
   ]
  },
  {
   "cell_type": "code",
   "execution_count": 25,
   "metadata": {},
   "outputs": [
    {
     "name": "stdout",
     "output_type": "stream",
     "text": [
      "*\n",
      "**\n",
      "***\n",
      "****\n",
      "*****\n",
      "-----------------\n",
      "*\n",
      "**\n",
      "***\n",
      "****\n",
      "*****\n"
     ]
    }
   ],
   "source": [
    "#pattern printing \n",
    "for i in range(1,6):  #outer loop for number of lines \n",
    "    s=''               #at the start of each row, an empty string will be initialized \n",
    "    for j in range(i):  #inner loop for printing stars \n",
    "        s=s+'*'\n",
    "    print(s)\n",
    "\n",
    "print(\"-----------------\")\n",
    "#another way \n",
    "for i in range(1, 6):\n",
    "    print('*' * i)  \n",
    "\n"
   ]
  }
 ],
 "metadata": {
  "kernelspec": {
   "display_name": "Python 3",
   "language": "python",
   "name": "python3"
  },
  "language_info": {
   "codemirror_mode": {
    "name": "ipython",
    "version": 3
   },
   "file_extension": ".py",
   "mimetype": "text/x-python",
   "name": "python",
   "nbconvert_exporter": "python",
   "pygments_lexer": "ipython3",
   "version": "3.12.2"
  }
 },
 "nbformat": 4,
 "nbformat_minor": 2
}
