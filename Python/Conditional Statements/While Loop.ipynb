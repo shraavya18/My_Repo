{
 "cells": [
  {
   "cell_type": "code",
   "execution_count": 2,
   "metadata": {},
   "outputs": [],
   "source": [
    "#while loop practice - while loop checks for condition and executes as long as the condition specified is true"
   ]
  },
  {
   "cell_type": "code",
   "execution_count": null,
   "metadata": {},
   "outputs": [],
   "source": [
    "#basic while loop \n",
    "count=0  #initializing count to 0 \n",
    "while(count<3):   #the statements written inside the while loop will execute as long as count<3\n",
    "    print(\"Hello\")  #in the first iteration count is 0, so it executes and goes to next line\n",
    "    count=count+1  #here count will become 0+1=1 and it goes to the while loop and checks the condition and repeats the process. \n",
    "else:   #the else is optional here\n",
    "    print(\"done\")  #this is out of the while loop, when the condition specified is false, this will print"
   ]
  },
  {
   "cell_type": "code",
   "execution_count": null,
   "metadata": {},
   "outputs": [],
   "source": [
    "#print numbers from 1 to 10 \n",
    "count=0\n",
    "while(count<10):\n",
    "    count=count+1\n",
    "    #print(count) #will print 10 numbers in 10 lines \n",
    "    print(count, end=\" \")  #will print all numbers in single line\n",
    "\n",
    "#same using for loop \n",
    "for count in range(11):\n",
    "    count=count+1\n",
    "    print(count)\n"
   ]
  },
  {
   "cell_type": "code",
   "execution_count": null,
   "metadata": {},
   "outputs": [],
   "source": [
    "#sum of first n numbers. \n",
    "n=int(input(\"How many numbers sum you want \"))\n",
    "sum=0\n",
    "i=1\n",
    "while (i<=n):\n",
    "    sum=sum+i\n",
    "    i=i+1\n",
    "print(sum)"
   ]
  },
  {
   "cell_type": "code",
   "execution_count": null,
   "metadata": {},
   "outputs": [],
   "source": [
    "#factorial \n",
    "i=1\n",
    "fact=1\n",
    "while(i<=5):\n",
    "    fact=fact*i\n",
    "    i=i+1\n",
    "print(fact)"
   ]
  },
  {
   "cell_type": "code",
   "execution_count": 19,
   "metadata": {},
   "outputs": [
    {
     "name": "stdout",
     "output_type": "stream",
     "text": [
      "3\n"
     ]
    }
   ],
   "source": [
    "#counting the digits of number \n",
    "number=125\n",
    "count=0\n",
    "while number>0:\n",
    "    number=number//10  #performs division and removes the reminder \n",
    "    count=count+1\n",
    "print(count)"
   ]
  },
  {
   "cell_type": "code",
   "execution_count": 20,
   "metadata": {},
   "outputs": [
    {
     "name": "stdout",
     "output_type": "stream",
     "text": [
      "123\n"
     ]
    }
   ],
   "source": [
    "# // operator \n",
    "number=1234\n",
    "print(number//10)"
   ]
  },
  {
   "cell_type": "code",
   "execution_count": 21,
   "metadata": {},
   "outputs": [
    {
     "name": "stdout",
     "output_type": "stream",
     "text": [
      "4\n"
     ]
    }
   ],
   "source": [
    "#another way to do counting the digits\n",
    "number=1234\n",
    "num_string=str(number)\n",
    "print(len(num_string))"
   ]
  },
  {
   "cell_type": "code",
   "execution_count": null,
   "metadata": {},
   "outputs": [],
   "source": [
    "#sum of first n even numbers \n",
    "sum=0\n",
    "i=0\n",
    "while(i<5):\n",
    "    if(i%2==0):\n",
    "        sum=sum+i\n",
    "    i=i+1\n",
    "print(sum)"
   ]
  },
  {
   "cell_type": "code",
   "execution_count": null,
   "metadata": {},
   "outputs": [],
   "source": [
    "#multiplication table \n",
    "prod=1\n",
    "num=5\n",
    "i=1\n",
    "while (i<=10):\n",
    "    prod=num*i\n",
    "    print(prod)\n",
    "    i=i+1\n",
    "    "
   ]
  },
  {
   "cell_type": "code",
   "execution_count": null,
   "metadata": {},
   "outputs": [],
   "source": [
    "#fibonacci series \n",
    "num1=0\n",
    "num2=1\n",
    "count=0\n",
    "while(count<10):\n",
    "    print(num1)\n",
    "    temp=num1+num2\n",
    "    num1=num2\n",
    "    num2=temp\n",
    "    count+=1"
   ]
  },
  {
   "cell_type": "code",
   "execution_count": null,
   "metadata": {},
   "outputs": [],
   "source": []
  }
 ],
 "metadata": {
  "kernelspec": {
   "display_name": "Python 3",
   "language": "python",
   "name": "python3"
  },
  "language_info": {
   "codemirror_mode": {
    "name": "ipython",
    "version": 3
   },
   "file_extension": ".py",
   "mimetype": "text/x-python",
   "name": "python",
   "nbconvert_exporter": "python",
   "pygments_lexer": "ipython3",
   "version": "3.12.2"
  }
 },
 "nbformat": 4,
 "nbformat_minor": 2
}
