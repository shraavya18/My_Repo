{
 "cells": [
  {
   "cell_type": "code",
   "execution_count": null,
   "metadata": {},
   "outputs": [],
   "source": [
    "#break, continue, pass practice - from Jenny lectures Youtube\n",
    "#three are called loop control stmts"
   ]
  },
  {
   "cell_type": "code",
   "execution_count": null,
   "metadata": {},
   "outputs": [],
   "source": [
    "#break statement\n",
    "count=1\n",
    "while count<=10:\n",
    "    print(count)\n",
    "    count+=1\n",
    "    if(count==7):\n",
    "        break  #without this if and break, it should print 1 to 10 numbers. But bcz of break it will stop at 7 and come out of the loop \n",
    "    print(\"Hello\")\n",
    "print(\"out of the while loop \")\n"
   ]
  },
  {
   "cell_type": "code",
   "execution_count": null,
   "metadata": {},
   "outputs": [],
   "source": [
    "#break example 2 \n",
    "greeting=[\"hi\",\"hello\",\"welcome\"]\n",
    "names=[\"Ram\",\"Madhav\",\"Krish\"]\n",
    "for greet in greeting:\n",
    "    for name in names:\n",
    "        print(greet, name)\n",
    "        if greet=='hello' and name=='Ram':\n",
    "            break\n",
    "    print(\"out from inner for loop\")\n",
    "print(\"out from the outer for loop \")"
   ]
  },
  {
   "cell_type": "code",
   "execution_count": null,
   "metadata": {},
   "outputs": [],
   "source": [
    "#continue stmt - whatever stmts are after continue, those will be skipped and a new iteration will be started\n",
    "#whereas in break, it will totally come out of the loop \n",
    "#same example as break, execute both and compare the difference \n",
    "count=1\n",
    "while count<=10:\n",
    "    print(count) #6 is printed\n",
    "    count+=1  #count is increased to 7 \n",
    "    if(count==7):  #count is 7, so it will skip print stmt and go to beginning of the loop \n",
    "        continue    \n",
    "    print(\"Hello\")\n",
    "print(\"out of the while loop \")\n",
    " "
   ]
  },
  {
   "cell_type": "code",
   "execution_count": null,
   "metadata": {},
   "outputs": [],
   "source": [
    "greeting=[\"hi\",\"hello\",\"welcome\"]\n",
    "names=[\"Ram\",\"Madhav\",\"Krish\"]\n",
    "for greet in greeting:\n",
    "    for name in names:\n",
    "        print(greet, name)\n",
    "        if greet=='hello' and name=='Ram':\n",
    "            continue\n",
    "        print(\"continue\")\n",
    "    print(\"out from inner for loop\")\n",
    "print(\"out from the outer for loop \")"
   ]
  },
  {
   "cell_type": "code",
   "execution_count": 3,
   "metadata": {},
   "outputs": [
    {
     "name": "stdout",
     "output_type": "stream",
     "text": [
      "1\n",
      "Hello\n",
      "2\n",
      "Hello\n",
      "3\n",
      "Hello\n",
      "4\n",
      "Hello\n",
      "5\n",
      "Hello\n",
      "6\n",
      "Hello\n",
      "7\n",
      "Hello\n",
      "8\n",
      "Hello\n",
      "9\n",
      "Hello\n",
      "10\n",
      "Hello\n",
      "out of the while loop \n"
     ]
    }
   ],
   "source": [
    "#pass stmt - define empty function or loop \n",
    "#why empty - we dont know what to write in the loop now, but in future you might use that \n",
    "#just empty loop - it will throw error \n",
    "\n",
    "count=1\n",
    "while count<=10:\n",
    "    print(count) \n",
    "    count+=1  \n",
    "    if(count==7): \n",
    "        pass   #does nothing, just normal execution. in future you can replace the pass with your own code \n",
    "    print(\"Hello\")\n",
    "print(\"out of the while loop \")\n"
   ]
  },
  {
   "cell_type": "code",
   "execution_count": null,
   "metadata": {},
   "outputs": [],
   "source": []
  },
  {
   "cell_type": "code",
   "execution_count": null,
   "metadata": {},
   "outputs": [],
   "source": []
  },
  {
   "cell_type": "code",
   "execution_count": null,
   "metadata": {},
   "outputs": [],
   "source": []
  }
 ],
 "metadata": {
  "kernelspec": {
   "display_name": "Python 3",
   "language": "python",
   "name": "python3"
  },
  "language_info": {
   "codemirror_mode": {
    "name": "ipython",
    "version": 3
   },
   "file_extension": ".py",
   "mimetype": "text/x-python",
   "name": "python",
   "nbconvert_exporter": "python",
   "pygments_lexer": "ipython3",
   "version": "3.12.2"
  }
 },
 "nbformat": 4,
 "nbformat_minor": 2
}
