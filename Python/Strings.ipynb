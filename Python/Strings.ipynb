{
 "cells": [
  {
   "cell_type": "code",
   "execution_count": null,
   "metadata": {},
   "outputs": [],
   "source": [
    "#Strings - basic, slicing, builtin string methods  \n",
    "#Strings - single quotes or double quotes does not matter \n",
    "#there are many other built in methods for strings apart from these "
   ]
  },
  {
   "cell_type": "markdown",
   "metadata": {},
   "source": []
  },
  {
   "cell_type": "code",
   "execution_count": 2,
   "metadata": {},
   "outputs": [
    {
     "name": "stdout",
     "output_type": "stream",
     "text": [
      "banana\n",
      "b\n"
     ]
    }
   ],
   "source": [
    "fruit='banana'\n",
    "print(fruit)\n",
    "print(fruit[0]) #accessing string elements - index starts at 0 "
   ]
  },
  {
   "cell_type": "code",
   "execution_count": 12,
   "metadata": {},
   "outputs": [
    {
     "name": "stdout",
     "output_type": "stream",
     "text": [
      "11\n",
      "Hello\n",
      "lo World\n",
      "Hello Wo\n",
      "HloW\n",
      "Hello W\n"
     ]
    }
   ],
   "source": [
    "#slicing \n",
    "s1=\"Hello World\"\n",
    "print(len(s1))\n",
    "print(s1[0:5])\n",
    "print(s1[3:])\n",
    "print(s1[:8])\n",
    "print(s1[0:8:2])\n",
    "print(s1[0:-4])  #understands it as 0 to len(s1)-4 which means start is 0 and stop is 11-4=7"
   ]
  },
  {
   "cell_type": "code",
   "execution_count": 17,
   "metadata": {},
   "outputs": [
    {
     "name": "stdout",
     "output_type": "stream",
     "text": [
      "16\n",
      "CODE WITH HARRY \n",
      "code with harry \n",
      "Code with harry\n"
     ]
    }
   ],
   "source": [
    "#string methods \n",
    "a=\"Code with harry \"\n",
    "print(len(a))\n",
    "print(a.upper())\n",
    "print(a.lower())\n",
    "print(a.strip())"
   ]
  },
  {
   "cell_type": "code",
   "execution_count": 23,
   "metadata": {},
   "outputs": [
    {
     "name": "stdout",
     "output_type": "stream",
     "text": [
      "!!!!Code with harry\n",
      "!!!!Code with John!!!!\n",
      "['!!!!Code', 'with', 'harry!!!!']\n"
     ]
    }
   ],
   "source": [
    "b= \"!!!!Code with harry!!!!\"\n",
    "print(b.rstrip('!'))\n",
    "print(b.replace(\"harry\", \"John\"))\n",
    "print(b.split(\" \"))"
   ]
  },
  {
   "cell_type": "code",
   "execution_count": 29,
   "metadata": {},
   "outputs": [
    {
     "name": "stdout",
     "output_type": "stream",
     "text": [
      "Helloo\n",
      "  helLoo  \n",
      "2\n"
     ]
    }
   ],
   "source": [
    "c=\"helLoo\"\n",
    "print(c.capitalize())\n",
    "print(c.center(10))\n",
    "print(c.count('o'))\n"
   ]
  },
  {
   "cell_type": "code",
   "execution_count": 40,
   "metadata": {},
   "outputs": [
    {
     "name": "stdout",
     "output_type": "stream",
     "text": [
      "False\n",
      "True\n",
      "3\n",
      "-1\n",
      "3\n",
      "False\n",
      "False\n",
      "True\n",
      "True\n",
      "False\n"
     ]
    },
    {
     "ename": "",
     "evalue": "",
     "output_type": "error",
     "traceback": [
      "\u001b[1;31mThe Kernel crashed while executing code in the current cell or a previous cell. \n",
      "\u001b[1;31mPlease review the code in the cell(s) to identify a possible cause of the failure. \n",
      "\u001b[1;31mClick <a href='https://aka.ms/vscodeJupyterKernelCrash'>here</a> for more info. \n",
      "\u001b[1;31mView Jupyter <a href='command:jupyter.viewOutput'>log</a> for further details."
     ]
    }
   ],
   "source": [
    "d=\"ababcabcdabcde\"\n",
    "print(d.endswith(\"cde\"))\n",
    "print(d.endswith(\"bc\",0, 5 ))\n",
    "print(d.find(\"bc\"))\n",
    "print(d.find(\"def\"))\n",
    "print(d.index(\"bc\"))\n",
    "#print(d.index(\"def\"))\n",
    "\n",
    "print(d.isalnum())\n",
    "print(d.isalpha())\n",
    "print(d.islower())\n",
    "print(d.isprintable())"
   ]
  },
  {
   "cell_type": "code",
   "execution_count": 1,
   "metadata": {},
   "outputs": [
    {
     "name": "stdout",
     "output_type": "stream",
     "text": [
      "Address using + operator: 13 patli gali\n",
      "New Delhi\n",
      "India\n",
      "Address using f-string: 13 patli gali\n",
      "New Delhi\n",
      "India\n"
     ]
    }
   ],
   "source": [
    "#code basics exercise \n",
    "street = \"13 patli gali\"\n",
    "city = \"New Delhi\"\n",
    "country = \"India\"\n",
    "address1 = street + '\\n' + city + '\\n' + country\n",
    "print(\"Address using + operator:\",address1)\n",
    "address2 = f'{street}\\n{city}\\n{country}'\n",
    "print(\"Address using f-string:\",address2)\n",
    "#f-string - formatted string literal. "
   ]
  },
  {
   "cell_type": "code",
   "execution_count": 7,
   "metadata": {},
   "outputs": [
    {
     "name": "stdout",
     "output_type": "stream",
     "text": [
      "revolves\n",
      "sun\n"
     ]
    }
   ],
   "source": [
    "#print revolves and sun using the string slicing\n",
    "sentence=\"Earth revolves around the sun\"\n",
    "print(sentence[6:14])\n",
    "print(sentence[-3:])\n"
   ]
  },
  {
   "cell_type": "code",
   "execution_count": 8,
   "metadata": {},
   "outputs": [
    {
     "name": "stdout",
     "output_type": "stream",
     "text": [
      "I eat 2 fruits and 3 vegetables per day\n"
     ]
    }
   ],
   "source": [
    "#Create two variables to store how many fruits and vegetables you eat in a day. using f-strings \n",
    "num_fruits=2\n",
    "num_veggies=3\n",
    "print(f\"I eat {num_fruits} fruits and {num_veggies} vegetables per day\")"
   ]
  },
  {
   "cell_type": "code",
   "execution_count": null,
   "metadata": {},
   "outputs": [],
   "source": []
  }
 ],
 "metadata": {
  "kernelspec": {
   "display_name": "Python 3",
   "language": "python",
   "name": "python3"
  },
  "language_info": {
   "codemirror_mode": {
    "name": "ipython",
    "version": 3
   },
   "file_extension": ".py",
   "mimetype": "text/x-python",
   "name": "python",
   "nbconvert_exporter": "python",
   "pygments_lexer": "ipython3",
   "version": "3.12.2"
  }
 },
 "nbformat": 4,
 "nbformat_minor": 2
}
