{
 "cells": [
  {
   "cell_type": "code",
   "execution_count": null,
   "id": "a18267fe",
   "metadata": {},
   "outputs": [],
   "source": [
    "#single line comment in python \n",
    "#there is no specific notation for multiline comments, just go with hashes"
   ]
  },
  {
   "cell_type": "code",
   "execution_count": 1,
   "id": "7fbbeb57",
   "metadata": {},
   "outputs": [
    {
     "name": "stdout",
     "output_type": "stream",
     "text": [
      "Enter your name: shraavya\n",
      "My name is: shraavya\n"
     ]
    }
   ],
   "source": [
    "#giving input \n",
    "a=input(\"Enter your name: \")\n",
    "print(\"My name is: \"+ a)"
   ]
  },
  {
   "cell_type": "code",
   "execution_count": null,
   "id": "61a83216",
   "metadata": {},
   "outputs": [],
   "source": [
    "#input always returns string\n",
    "x=input(\"Enter your age: \")\n",
    "print(type(x))\n",
    "\n",
    "#So if you want to any other datatype you should convert it \n",
    "y=int(input(\"Enter your favourite number: \"))\n",
    "print(type(y))"
   ]
  },
  {
   "cell_type": "code",
   "execution_count": null,
   "id": "eec41170",
   "metadata": {},
   "outputs": [],
   "source": [
    "# taking two inputs at a time\n",
    "x, y = input(\"Enter two values: \").split()\n",
    "print(\"Number of boys: \", x)\n",
    "print(\"Number of girls: \", y)"
   ]
  },
  {
   "cell_type": "code",
   "execution_count": null,
   "id": "4376c478",
   "metadata": {},
   "outputs": [],
   "source": [
    "#output \n",
    "print(\"Hello World\")"
   ]
  },
  {
   "cell_type": "code",
   "execution_count": null,
   "id": "881cec9d",
   "metadata": {},
   "outputs": [],
   "source": [
    "#output printing in multiple lines \n",
    "print(\"This is line 1\\nThis is line 2\\nThis is line 3\")"
   ]
  },
  {
   "cell_type": "code",
   "execution_count": null,
   "id": "681df63f",
   "metadata": {},
   "outputs": [],
   "source": []
  }
 ],
 "metadata": {
  "kernelspec": {
   "display_name": "Python 3 (ipykernel)",
   "language": "python",
   "name": "python3"
  },
  "language_info": {
   "codemirror_mode": {
    "name": "ipython",
    "version": 3
   },
   "file_extension": ".py",
   "mimetype": "text/x-python",
   "name": "python",
   "nbconvert_exporter": "python",
   "pygments_lexer": "ipython3",
   "version": "3.9.13"
  }
 },
 "nbformat": 4,
 "nbformat_minor": 5
}
