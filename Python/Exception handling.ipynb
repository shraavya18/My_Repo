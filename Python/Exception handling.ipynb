{
 "cells": [
  {
   "cell_type": "code",
   "execution_count": null,
   "metadata": {},
   "outputs": [],
   "source": [
    "#exception handling - 5 key words - try, except, finally,else, raise"
   ]
  },
  {
   "cell_type": "code",
   "execution_count": 1,
   "metadata": {},
   "outputs": [
    {
     "ename": "ZeroDivisionError",
     "evalue": "division by zero",
     "output_type": "error",
     "traceback": [
      "\u001b[1;31m---------------------------------------------------------------------------\u001b[0m",
      "\u001b[1;31mZeroDivisionError\u001b[0m                         Traceback (most recent call last)",
      "Cell \u001b[1;32mIn[1], line 3\u001b[0m\n\u001b[0;32m      1\u001b[0m x\u001b[38;5;241m=\u001b[39m\u001b[38;5;28minput\u001b[39m(\u001b[38;5;124m\"\u001b[39m\u001b[38;5;124mEnter the number 1\u001b[39m\u001b[38;5;124m\"\u001b[39m)\n\u001b[0;32m      2\u001b[0m y\u001b[38;5;241m=\u001b[39m\u001b[38;5;28minput\u001b[39m(\u001b[38;5;124m\"\u001b[39m\u001b[38;5;124mEnter number 2: \u001b[39m\u001b[38;5;124m\"\u001b[39m)\n\u001b[1;32m----> 3\u001b[0m z\u001b[38;5;241m=\u001b[39m\u001b[38;5;28;43mint\u001b[39;49m\u001b[43m(\u001b[49m\u001b[43mx\u001b[49m\u001b[43m)\u001b[49m\u001b[38;5;241;43m/\u001b[39;49m\u001b[38;5;28;43mint\u001b[39;49m\u001b[43m(\u001b[49m\u001b[43my\u001b[49m\u001b[43m)\u001b[49m     \u001b[38;5;66;03m#give y as zero and you can see an exception \u001b[39;00m\n\u001b[0;32m      4\u001b[0m \u001b[38;5;28mprint\u001b[39m(\u001b[38;5;124m\"\u001b[39m\u001b[38;5;124mDivision is: \u001b[39m\u001b[38;5;124m\"\u001b[39m, z)\n\u001b[0;32m      5\u001b[0m \u001b[38;5;28mprint\u001b[39m(\u001b[38;5;124m\"\u001b[39m\u001b[38;5;124mHello World\u001b[39m\u001b[38;5;124m\"\u001b[39m)    \u001b[38;5;66;03m#there is no problem in hello world, but it will also not get printed bcz excpetion occuured above and it stops the execution of rmg program \u001b[39;00m\n",
      "\u001b[1;31mZeroDivisionError\u001b[0m: division by zero"
     ]
    }
   ],
   "source": [
    "x=input(\"Enter the number 1\")\n",
    "y=input(\"Enter number 2: \")\n",
    "z=int(x)/int(y)     #give y as zero and you can see an exception \n",
    "print(\"Division is: \", z)\n",
    "print(\"Hello World\")    #there is no problem in hello world, but it will also not get printed bcz excpetion occuured above and it stops the execution of rmg program "
   ]
  },
  {
   "cell_type": "code",
   "execution_count": 2,
   "metadata": {},
   "outputs": [
    {
     "name": "stdout",
     "output_type": "stream",
     "text": [
      "Exception occurred\n",
      "Division is:  None\n",
      "Hello world\n"
     ]
    }
   ],
   "source": [
    "#solving exceptions using exception handling\n",
    "\n",
    "x=input(\"Enter the number 1\")\n",
    "y=input(\"Enter number 2: \")\n",
    "try:\n",
    "    z=int(x)/int(y)     #give y as zero and you can see an exception \n",
    "except Exception as e:\n",
    "    print(\"Exception occurred\")\n",
    "    z=None               #executed without any interruption and prints None if exception occurs otherwise prints x/y value\n",
    "print(\"Division is: \", z)\n",
    "print(\"Hello world\") #hello world is printed now bcz, exception is handled. "
   ]
  },
  {
   "cell_type": "code",
   "execution_count": null,
   "metadata": {},
   "outputs": [],
   "source": [
    "#handling exceptions with specific exception type \n",
    "\n",
    "x=input(\"Enter the number 1\")\n",
    "y=input(\"Enter number 2: \")\n",
    "try:\n",
    "    z=int(x)/int(y)    \n",
    "except ZeroDivisionError as e:   #giving specific name to exception instead of simply saying exception\n",
    "    print(\"Division by zero exception\")\n",
    "print(\"Division is: \", z)\n",
    "print(\"Hello world\")"
   ]
  },
  {
   "cell_type": "code",
   "execution_count": null,
   "metadata": {},
   "outputs": [
    {
     "name": "stdout",
     "output_type": "stream",
     "text": [
      "Exception type is:  TypeError\n",
      "Division is:  None\n",
      "Hello world\n"
     ]
    }
   ],
   "source": [
    "#handling multpile exceptions\n",
    "\n",
    "x=input(\"Enter the number 1\")\n",
    "y=input(\"Enter number 2: \")\n",
    "try:\n",
    "    z=(x)/int(y) #not converting x into integer  -- exception occurs bcz x is str \n",
    "except ZeroDivisionError as e:\n",
    "    print(\"Division by zero exception\")\n",
    "except Exception as e:         #except TypeError as e: \n",
    "    print(\"Exception type is: \", type(e).__name__)  #when you do not know the exception type, use this and it will show you the type of exception, then go and replace Exception with that name \n",
    "    print(\"Division is: \", z)\n",
    "print(\"Hello world\")"
   ]
  },
  {
   "cell_type": "code",
   "execution_count": null,
   "metadata": {},
   "outputs": [
    {
     "name": "stdout",
     "output_type": "stream",
     "text": [
      "This will alaways execute\n",
      "Division is:  2.0\n",
      "Hello world\n"
     ]
    }
   ],
   "source": [
    "x=input(\"Enter the number 1\")\n",
    "y=input(\"Enter number 2: \")\n",
    "try:\n",
    "    z=int(x)/int(y)     #give y as zero and you can see an exception \n",
    "except Exception as e:\n",
    "    print(\"Exception occurred\")\n",
    "    z=None               #executed without any interruption and prints None if exception occurs otherwise prints x/y value\n",
    "finally:\n",
    "    print(\"This will alaways execute\")  #when exception occurs and when it does not occurrs this will get printed. try with 4/0 and 4/2\n",
    "print(\"Division is: \", z)\n",
    "print(\"Hello world\") #hello world is printed now bcz, exception is handled. "
   ]
  },
  {
   "cell_type": "code",
   "execution_count": null,
   "metadata": {},
   "outputs": [],
   "source": [
    "#hand;ing exception using raise \n",
    "def divide(a, b):\n",
    "    if b == 0:\n",
    "        raise ZeroDivisionError(\"Cannot divide by zero!\")  # Raising a ZeroDivisionError\n",
    "    return a / b\n",
    "\n",
    "try:\n",
    "    result = divide(10, 0)\n",
    "except ZeroDivisionError as e:\n",
    "    print(f\"Error: {e}\")\n"
   ]
  },
  {
   "cell_type": "code",
   "execution_count": null,
   "metadata": {},
   "outputs": [],
   "source": []
  }
 ],
 "metadata": {
  "kernelspec": {
   "display_name": "Python 3",
   "language": "python",
   "name": "python3"
  },
  "language_info": {
   "codemirror_mode": {
    "name": "ipython",
    "version": 3
   },
   "file_extension": ".py",
   "mimetype": "text/x-python",
   "name": "python",
   "nbconvert_exporter": "python",
   "pygments_lexer": "ipython3",
   "version": "3.12.2"
  }
 },
 "nbformat": 4,
 "nbformat_minor": 2
}
