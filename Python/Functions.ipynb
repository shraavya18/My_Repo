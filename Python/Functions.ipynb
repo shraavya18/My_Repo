{
 "cells": [
  {
   "cell_type": "code",
   "execution_count": null,
   "metadata": {},
   "outputs": [],
   "source": [
    "#functions"
   ]
  },
  {
   "cell_type": "code",
   "execution_count": null,
   "metadata": {},
   "outputs": [],
   "source": [
    "#calculating the sum of expenses \n",
    "joe_expenses =[1000,2000,3000] #expenses made by joe in 3 months\n",
    "tom_expenses = [500,1500,2500]\n",
    "\n",
    "def tot_expenses(exp):\n",
    "    total=0\n",
    "    for item in exp:\n",
    "        total=total+item\n",
    "    return total\n",
    "joe_total=tot_expenses(joe_expenses)\n",
    "tom_total=tot_expenses(tom_expenses)\n",
    "\n",
    "print(\"Joe's expenses are:\" ,joe_total)\n",
    "print(\"Tom's expenses are:\" ,tom_total)\n"
   ]
  },
  {
   "cell_type": "code",
   "execution_count": null,
   "metadata": {},
   "outputs": [],
   "source": [
    "#function for sum of 2 numbers \n",
    "def sum(a,b):\n",
    "    sum=a+b\n",
    "    return sum\n",
    "sum1=sum(3,4)  #positional arguments \n",
    "print(sum1)\n",
    "sum2=sum(b=6,a=4)  #named arguments\n",
    "print(sum2)   "
   ]
  },
  {
   "cell_type": "code",
   "execution_count": null,
   "metadata": {},
   "outputs": [],
   "source": [
    "#default arguments\n",
    "def sum(a,b=0):   #we are specifying the def value for b as 0 \n",
    "    sum=a+b\n",
    "    return sum\n",
    "sum3=sum(5)     #here, we dont have any value for b, so it takes it as 0, which is given in func def\n",
    "sum4=sum(5,3)     #here, since we gave a value for b, it will take b=3\n",
    "print(sum3)   \n",
    "print(sum4)"
   ]
  },
  {
   "cell_type": "code",
   "execution_count": null,
   "metadata": {},
   "outputs": [],
   "source": [
    "#area of triangle \n",
    "def area(l,b):\n",
    "    area=0.5*l*b\n",
    "    return area\n",
    "area1=area(10,5)\n",
    "print(area1)"
   ]
  },
  {
   "cell_type": "code",
   "execution_count": null,
   "metadata": {},
   "outputs": [],
   "source": [
    "#Modify above function to take third parameter shape type. It can be either \"triangle\" or \"rectangle\". Based on shape type it will calculate area. \n",
    "def area(l,b,shape='triangle'):     #assigning a defaut value to shape\n",
    "    if shape=='triangle':\n",
    "        area=0.5*l*b\n",
    "    elif shape=='rectangle':\n",
    "        area=l*b\n",
    "    return area\n",
    "area2=area(2,4)    #since the shape is not specified it is taking default value \n",
    "area3=area(2,6,'rectangle')\n",
    "print(area2)\n",
    "print(area3)"
   ]
  },
  {
   "cell_type": "code",
   "execution_count": null,
   "metadata": {},
   "outputs": [],
   "source": [
    "#Write a function called print_pattern that takes integer number as an argument and prints following pattern if input number is 3,\n",
    "# *\n",
    "# **\n",
    "# ***\n",
    "\n",
    "def print_pattern(n):\n",
    "    for i in range(1,n+1):\n",
    "        print('*' * i)\n",
    "print_pattern(4)"
   ]
  },
  {
   "cell_type": "code",
   "execution_count": null,
   "metadata": {},
   "outputs": [],
   "source": [
    "#basic greet function \n",
    "def greet(name):\n",
    "    print(\"Hello\", name)\n",
    "greet('Shraavya')"
   ]
  },
  {
   "cell_type": "code",
   "execution_count": null,
   "metadata": {},
   "outputs": [],
   "source": [
    "#Max of 2 numbers\n",
    "def maxnum(a,b):\n",
    "    maxval=0\n",
    "    if(a>b):\n",
    "        maxval=a\n",
    "    else:\n",
    "        maxval=b\n",
    "    return maxval\n",
    "\n",
    "maxnum(5,4)"
   ]
  },
  {
   "cell_type": "code",
   "execution_count": null,
   "metadata": {},
   "outputs": [],
   "source": [
    "def iseven(num):\n",
    "    if num%2==0:\n",
    "        return True\n",
    "    else:\n",
    "        return False\n",
    "iseven(8)"
   ]
  },
  {
   "cell_type": "code",
   "execution_count": null,
   "metadata": {},
   "outputs": [],
   "source": [
    "def factorial(num):\n",
    "    fact=1\n",
    "    for i in range(1,num+1):\n",
    "        fact=fact*i\n",
    "    return fact\n",
    "factorial(6)"
   ]
  },
  {
   "cell_type": "code",
   "execution_count": null,
   "metadata": {},
   "outputs": [],
   "source": [
    "#count vowels in String\n",
    "vowel=['a','e','i','o','u']\n",
    "def count_vowels(str):\n",
    "    count=0\n",
    "    for s in str:\n",
    "        if s in vowel:\n",
    "            count=count+1\n",
    "    return count\n",
    "count_vowels(\"Panasonic\")"
   ]
  },
  {
   "cell_type": "code",
   "execution_count": null,
   "metadata": {},
   "outputs": [],
   "source": [
    "#temperature conversion\n",
    "def celtofar(celcius):\n",
    "    farenheit = celcius*(9/5)+32\n",
    "    return farenheit\n",
    "celtofar(34)"
   ]
  },
  {
   "cell_type": "code",
   "execution_count": null,
   "metadata": {},
   "outputs": [],
   "source": [
    "def palindrome(str):\n",
    "    strrev=str[::-1]\n",
    "    if str==strrev:\n",
    "        return True\n",
    "    else:\n",
    "        return False\n",
    "palindrome('hello')"
   ]
  },
  {
   "cell_type": "code",
   "execution_count": null,
   "metadata": {},
   "outputs": [],
   "source": [
    "palindromecheck='hello'\n",
    "revstring=''\n",
    "for i in range(len(palindromecheck)-1, -1, -1):\n",
    "    revstring=revstring+palindromecheck[i]\n",
    "print(revstring)"
   ]
  },
  {
   "cell_type": "code",
   "execution_count": null,
   "metadata": {},
   "outputs": [],
   "source": [
    "#multiplication table generator\n",
    "def multpilication_table(num):\n",
    "    for i in range(1,11):\n",
    "        print(f\"{num} * {i} = {num*i}\")\n",
    "multpilication_table(8)"
   ]
  },
  {
   "cell_type": "code",
   "execution_count": null,
   "metadata": {},
   "outputs": [],
   "source": [
    "#fibonacci \n",
    "def fib(n):\n",
    "    num1=0\n",
    "    num2=1\n",
    "    for i in range(n):\n",
    "        print(num1)\n",
    "        temp=num1\n",
    "        num1=num2\n",
    "        num2=temp+num2\n",
    "fib(10)"
   ]
  },
  {
   "cell_type": "code",
   "execution_count": null,
   "metadata": {},
   "outputs": [
    {
     "data": {
      "text/plain": [
       "False"
      ]
     },
     "execution_count": 57,
     "metadata": {},
     "output_type": "execute_result"
    }
   ],
   "source": [
    "#anagram\n",
    "def is_anagram(str1, str2):\n",
    "    str1=str1.lower()\n",
    "    str2=str2.lower()\n",
    "    return sorted(str1)==sorted(str2)\n",
    "is_anagram('listen','silent')"
   ]
  },
  {
   "cell_type": "code",
   "execution_count": 60,
   "metadata": {},
   "outputs": [
    {
     "data": {
      "text/plain": [
       "False"
      ]
     },
     "execution_count": 60,
     "metadata": {},
     "output_type": "execute_result"
    }
   ],
   "source": [
    "#anagram another way \n",
    "def is_anagram1(str1, str2):\n",
    "    str1=str1.lower()\n",
    "    str2=str2.lower()\n",
    "    l1=[]\n",
    "    l2=[]\n",
    "    for s in str1:\n",
    "        l1.append(s)\n",
    "    for s in str2:\n",
    "        l2.append(s)\n",
    "    if sorted(l1)==sorted(l2):\n",
    "        return True\n",
    "    else:\n",
    "        return False\n",
    "is_anagram1('hello','world')"
   ]
  }
 ],
 "metadata": {
  "kernelspec": {
   "display_name": "Python 3",
   "language": "python",
   "name": "python3"
  },
  "language_info": {
   "codemirror_mode": {
    "name": "ipython",
    "version": 3
   },
   "file_extension": ".py",
   "mimetype": "text/x-python",
   "name": "python",
   "nbconvert_exporter": "python",
   "pygments_lexer": "ipython3",
   "version": "3.12.2"
  }
 },
 "nbformat": 4,
 "nbformat_minor": 2
}
