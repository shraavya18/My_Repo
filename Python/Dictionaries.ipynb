{
 "cells": [
  {
   "cell_type": "code",
   "execution_count": null,
   "metadata": {},
   "outputs": [],
   "source": [
    "#dictionaries "
   ]
  },
  {
   "cell_type": "code",
   "execution_count": null,
   "metadata": {},
   "outputs": [],
   "source": [
    "#creating a dictionary \n",
    "#method 1\n",
    "my_dict={\"name\": \"Alice\", \"age\": 25, \"city\": \"New York\"}\n",
    "#method2\n",
    "my_dict = dict(name=\"Alice\", age=25, city=\"New York\")\n",
    "\n",
    "#accessing values\n",
    "my_dict[\"name\"]\n",
    "\n",
    "#adding elements \n",
    "my_dict[\"phone\"]=1234567890\n",
    "print(my_dict)\n",
    "\n",
    "#updating element \n",
    "my_dict[\"age\"]=24\n",
    "print(my_dict)\n",
    "\n",
    "#removing entries\n",
    "del my_dict[\"city\"]\n",
    "print(my_dict)"
   ]
  },
  {
   "cell_type": "code",
   "execution_count": null,
   "metadata": {},
   "outputs": [],
   "source": [
    "#looping through a dictionary - multiple ways\n",
    "for key in my_dict: \n",
    "    print(key)\n",
    "print(\"-----------------\")\n",
    "for key in my_dict:\n",
    "    print(key,my_dict[key])\n",
    "print(\"-----------------\")\n",
    "for value in my_dict.values():\n",
    "    print(value)\n",
    "print(\"-----------------\")\n",
    "for key,value in my_dict.items():  #using items()\n",
    "    print(key, value)"
   ]
  },
  {
   "cell_type": "code",
   "execution_count": null,
   "metadata": {},
   "outputs": [],
   "source": [
    "#clearing the entire dictionary\n",
    "my_dict.clear()   #returns an empty dict\n",
    "print(my_dict)"
   ]
  },
  {
   "cell_type": "code",
   "execution_count": 2,
   "metadata": {},
   "outputs": [],
   "source": [
    "#code basics assignment\n",
    "countries={\"China\": 143, \"India\":136, \"USA\":32, \"Pakistan\": 21}\n",
    "\n",
    "choice=input(\"Enter your choice from {print, add, remove, query}\")\n",
    "\n",
    "if choice==\"print\":\n",
    "    for key in countries:\n",
    "        print(f\"{key} ==> {countries[key]}\")\n",
    "elif choice==\"add\":\n",
    "    new_country=input(\"Enter the country you want to add: \")\n",
    "    if new_country in countries:\n",
    "        print(\"this country already exists\")\n",
    "    else:\n",
    "        new_population=int(input(\"Enter the population\"))\n",
    "        countries[new_country]=new_population\n",
    "        print(countries)\n",
    "elif choice==\"remove\":\n",
    "    remove_country=input(\"Enter the country you want to remove: \")\n",
    "    if remove_country in countries:\n",
    "        del countries[remove_country]\n",
    "        print(countries)\n",
    "    else:\n",
    "        print(\"country does not exist\")\n",
    "elif choice==\"query\":\n",
    "    query_country=input(\"Which country you want to query: \")\n",
    "    print(query_country, countries[query_country])\n"
   ]
  },
  {
   "cell_type": "code",
   "execution_count": 3,
   "metadata": {},
   "outputs": [
    {
     "ename": "TypeError",
     "evalue": "print() takes 0 positional arguments but 1 was given",
     "output_type": "error",
     "traceback": [
      "\u001b[1;31m---------------------------------------------------------------------------\u001b[0m",
      "\u001b[1;31mTypeError\u001b[0m                                 Traceback (most recent call last)",
      "Cell \u001b[1;32mIn[3], line 38\u001b[0m\n\u001b[0;32m     35\u001b[0m         query()\n\u001b[0;32m     37\u001b[0m \u001b[38;5;28;01mif\u001b[39;00m \u001b[38;5;18m__name__\u001b[39m \u001b[38;5;241m==\u001b[39m \u001b[38;5;124m'\u001b[39m\u001b[38;5;124m__main__\u001b[39m\u001b[38;5;124m'\u001b[39m:\n\u001b[1;32m---> 38\u001b[0m     \u001b[43mmain\u001b[49m\u001b[43m(\u001b[49m\u001b[43m)\u001b[49m\n",
      "Cell \u001b[1;32mIn[3], line 31\u001b[0m, in \u001b[0;36mmain\u001b[1;34m()\u001b[0m\n\u001b[0;32m     29\u001b[0m     \u001b[38;5;28mprint\u001b[39m()\n\u001b[0;32m     30\u001b[0m \u001b[38;5;28;01melif\u001b[39;00m choice\u001b[38;5;241m==\u001b[39m\u001b[38;5;124m'\u001b[39m\u001b[38;5;124madd\u001b[39m\u001b[38;5;124m'\u001b[39m:\n\u001b[1;32m---> 31\u001b[0m     \u001b[43madd\u001b[49m\u001b[43m(\u001b[49m\u001b[43m)\u001b[49m\n\u001b[0;32m     32\u001b[0m \u001b[38;5;28;01melif\u001b[39;00m choice\u001b[38;5;241m==\u001b[39m\u001b[38;5;124m'\u001b[39m\u001b[38;5;124mremove\u001b[39m\u001b[38;5;124m'\u001b[39m:\n\u001b[0;32m     33\u001b[0m     remove()\n",
      "Cell \u001b[1;32mIn[3], line 15\u001b[0m, in \u001b[0;36madd\u001b[1;34m()\u001b[0m\n\u001b[0;32m     13\u001b[0m new_population\u001b[38;5;241m=\u001b[39m\u001b[38;5;28mint\u001b[39m(\u001b[38;5;28minput\u001b[39m(\u001b[38;5;124m\"\u001b[39m\u001b[38;5;124mEnter the population\u001b[39m\u001b[38;5;124m\"\u001b[39m))\n\u001b[0;32m     14\u001b[0m countries[new_country]\u001b[38;5;241m=\u001b[39mnew_population\n\u001b[1;32m---> 15\u001b[0m \u001b[38;5;28;43mprint\u001b[39;49m\u001b[43m(\u001b[49m\u001b[43mcountries\u001b[49m\u001b[43m)\u001b[49m\n",
      "\u001b[1;31mTypeError\u001b[0m: print() takes 0 positional arguments but 1 was given"
     ]
    }
   ],
   "source": [
    "#same using functions\n",
    "countries={\"China\": 143, \"India\":136, \"USA\":32, \"Pakistan\": 21}\n",
    "choice=input(\"Enter your choice from {print, add, remove, query}\")\n",
    "\n",
    "def print():\n",
    "    for key in countries:\n",
    "        print(f\"{key} ==> {countries[key]}\")\n",
    "def add():\n",
    "    new_country=input(\"Enter the country you want to add: \")\n",
    "    if new_country in countries:\n",
    "        print(\"this country already exists\")\n",
    "    else:\n",
    "        new_population=int(input(\"Enter the population\"))\n",
    "        countries[new_country]=new_population\n",
    "        print(countries)\n",
    "def remove():\n",
    "    remove_country=input(\"Enter the country you want to remove: \")\n",
    "    if remove_country in countries:\n",
    "        del countries[remove_country]\n",
    "        print(countries)\n",
    "    else:\n",
    "        print(\"country does not exist\")\n",
    "def query():\n",
    "    query_country=input(\"Which country you want to query: \")\n",
    "    print(query_country, countries[query_country])\n",
    "\n",
    "def main():\n",
    "    if choice=='print':\n",
    "        print()\n",
    "    elif choice=='add':\n",
    "        add()\n",
    "    elif choice=='remove':\n",
    "        remove()\n",
    "    else:\n",
    "        query()\n",
    "\n",
    "if __name__ == '__main__':\n",
    "    main()"
   ]
  },
  {
   "cell_type": "code",
   "execution_count": null,
   "metadata": {},
   "outputs": [],
   "source": []
  },
  {
   "cell_type": "code",
   "execution_count": null,
   "metadata": {},
   "outputs": [],
   "source": []
  }
 ],
 "metadata": {
  "kernelspec": {
   "display_name": "Python 3",
   "language": "python",
   "name": "python3"
  },
  "language_info": {
   "codemirror_mode": {
    "name": "ipython",
    "version": 3
   },
   "file_extension": ".py",
   "mimetype": "text/x-python",
   "name": "python",
   "nbconvert_exporter": "python",
   "pygments_lexer": "ipython3",
   "version": "3.12.2"
  }
 },
 "nbformat": 4,
 "nbformat_minor": 2
}
