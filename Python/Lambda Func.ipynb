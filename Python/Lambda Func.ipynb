{
 "cells": [
  {
   "cell_type": "code",
   "execution_count": null,
   "metadata": {},
   "outputs": [],
   "source": [
    "#Lambda Functions "
   ]
  },
  {
   "cell_type": "code",
   "execution_count": null,
   "metadata": {},
   "outputs": [],
   "source": [
    "def add(a,b):      #regular function \n",
    "    result= a+b\n",
    "    return result \n",
    "add(3,8)"
   ]
  },
  {
   "cell_type": "code",
   "execution_count": null,
   "metadata": {},
   "outputs": [],
   "source": [
    "#same using lambda functions \n",
    "add=lambda a,b: a+b\n",
    "add(3,8)"
   ]
  },
  {
   "cell_type": "code",
   "execution_count": null,
   "metadata": {},
   "outputs": [],
   "source": [
    "#without using variable \n",
    "(lambda x,y:x*y)(15,3)  #this is called iife - immediately invoked function args"
   ]
  },
  {
   "cell_type": "code",
   "execution_count": null,
   "metadata": {},
   "outputs": [],
   "source": [
    "#lambda functions with keyword args \n",
    "prod =lambda x,y,z: x*y*z\n",
    "prod(z=5,x=10,y=4)"
   ]
  },
  {
   "cell_type": "code",
   "execution_count": null,
   "metadata": {},
   "outputs": [],
   "source": [
    "#lambda functions with default args\n",
    "add=lambda x,y=15,z=30: x+y+z\n",
    "add(20)  #y and z are already defined in def values "
   ]
  },
  {
   "cell_type": "code",
   "execution_count": null,
   "metadata": {},
   "outputs": [],
   "source": [
    "addition=lambda *args: sum(args)  #allows to give any number of args, supported by regular functions also\n",
    "addition(3,4,5,5,6)   "
   ]
  },
  {
   "cell_type": "code",
   "execution_count": null,
   "metadata": {},
   "outputs": [],
   "source": [
    "#using lambda function inside another lambda function\n",
    "higher_ord_fun=lambda x, fun :x+fun(x)\n",
    "higher_ord_fun(20, lambda x:x*x ) #20+(20*20)  "
   ]
  },
  {
   "cell_type": "code",
   "execution_count": null,
   "metadata": {},
   "outputs": [],
   "source": [
    "(lambda x:(x%2 and 'odd' or 'even'))(15)\n",
    "\n",
    "#another example \n",
    "sub_string=lambda string: string in \"welcome to Python functions tutorial\"\n",
    "print(sub_string(\"welcome\"))\n",
    "print(sub_string(\"Java\"))"
   ]
  },
  {
   "cell_type": "code",
   "execution_count": null,
   "metadata": {},
   "outputs": [],
   "source": [
    "num=[10,40,56,27,33,15,70]   #filtering number >30 using lambda functions \n",
    "greater=list(filter(lambda num: num>30, num))\n",
    "print(greater)\n",
    "\n",
    "divby4=list(filter(lambda num:num%4==0, num)) #filtering numbers divisible by 4\n",
    "print(divby4)\n",
    "\n",
    "#using lambdas with map()\n",
    "double_the_num=list(map(lambda x: x*2, num))   #multiplying all elements in list by 2\n",
    "print(double_the_num)\n",
    "\n",
    "#finding square of the numbers \n",
    "squares=list(map(lambda x: x**2, num))\n",
    "print(squares)"
   ]
  },
  {
   "cell_type": "code",
   "execution_count": null,
   "metadata": {},
   "outputs": [],
   "source": [
    "#using lambdas with reduce() -- first import the reduce module\n",
    "from functools import reduce   \n",
    "list1=[2,5,10,6,4,12]   #question - find the sum of all elements inside the list\n",
    "sum=reduce(lambda x,y:x+y, list1)\n",
    "prod=reduce(lambda x,y:x*y, list1)\n",
    "print(sum)\n",
    "print(prod)"
   ]
  },
  {
   "cell_type": "code",
   "execution_count": 15,
   "metadata": {},
   "outputs": [
    {
     "data": {
      "text/plain": [
       "18"
      ]
     },
     "execution_count": 15,
     "metadata": {},
     "output_type": "execute_result"
    }
   ],
   "source": [
    "#using lambda functions with user defined functions \n",
    "def quadratic(a,b,c):\n",
    "    return lambda x: a*x**2+b*x+c\n",
    "f=quadratic(2,3,4)\n",
    "f(2)   #1 is value of x "
   ]
  }
 ],
 "metadata": {
  "kernelspec": {
   "display_name": "Python 3",
   "language": "python",
   "name": "python3"
  },
  "language_info": {
   "codemirror_mode": {
    "name": "ipython",
    "version": 3
   },
   "file_extension": ".py",
   "mimetype": "text/x-python",
   "name": "python",
   "nbconvert_exporter": "python",
   "pygments_lexer": "ipython3",
   "version": "3.12.2"
  }
 },
 "nbformat": 4,
 "nbformat_minor": 2
}
